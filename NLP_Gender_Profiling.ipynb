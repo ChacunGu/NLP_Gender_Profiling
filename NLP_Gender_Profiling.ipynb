{
 "cells": [
  {
   "cell_type": "raw",
   "metadata": {},
   "source": [
    "MCS - BeNeFri\n",
    "Seminar of Natural Language Processing, Fall 2019\n",
    "Gender Profiling on tweets\n",
    "Authors: @chacungu, @fabienvorpe"
   ]
  },
  {
   "cell_type": "markdown",
   "metadata": {},
   "source": [
    "# Imports"
   ]
  },
  {
   "cell_type": "code",
   "execution_count": 58,
   "metadata": {
    "ExecuteTime": {
     "end_time": "2019-10-28T13:41:32.711782Z",
     "start_time": "2019-10-28T13:41:32.665210Z"
    }
   },
   "outputs": [],
   "source": [
    "from catboost import CatBoostClassifier\n",
    "import csv\n",
    "from imblearn.over_sampling import SMOTE\n",
    "import matplotlib.pyplot as plt\n",
    "import numpy as np\n",
    "import os.path\n",
    "import pandas as pd\n",
    "import re\n",
    "#import shap\n",
    "from sklearn.manifold import TSNE\n",
    "from sklearn.metrics import accuracy_score, confusion_matrix, precision_score, recall_score\n",
    "from sklearn.model_selection import GridSearchCV, StratifiedShuffleSplit\n",
    "from sklearn.preprocessing import MaxAbsScaler, MinMaxScaler, RobustScaler, StandardScaler\n",
    "from sklearn.utils.multiclass import unique_labels\n",
    "import spacy\n",
    "import time\n",
    "from tqdm import tqdm"
   ]
  },
  {
   "cell_type": "markdown",
   "metadata": {},
   "source": [
    "## Spacy Loading"
   ]
  },
  {
   "cell_type": "code",
   "execution_count": 3,
   "metadata": {
    "ExecuteTime": {
     "end_time": "2019-10-28T10:29:04.451298Z",
     "start_time": "2019-10-28T10:29:03.629498Z"
    }
   },
   "outputs": [],
   "source": [
    "nlp = spacy.load('en_core_web_sm')"
   ]
  },
  {
   "cell_type": "markdown",
   "metadata": {},
   "source": [
    "# Data preprocessing"
   ]
  },
  {
   "cell_type": "code",
   "execution_count": 80,
   "metadata": {
    "ExecuteTime": {
     "end_time": "2019-10-28T14:32:49.693607Z",
     "start_time": "2019-10-28T14:32:49.678614Z"
    },
    "code_folding": [
     0
    ]
   },
   "outputs": [],
   "source": [
    "def load_data():\n",
    "    \"\"\"\n",
    "    Loads the data in a pandas' dataframe and group the tweets by author.\n",
    "    Returns the dataframe containing following columns : 'doc_id' (int), 'label' (int) and 'content' (str).\n",
    "    \"\"\"\n",
    "    data = pd.DataFrame()\n",
    "    data_files = ['./data/AMale.txt', './data/AFemale.txt']\n",
    "\n",
    "    for data_file in data_files:\n",
    "        data = data.append(pd.read_csv(data_file, sep=\"\\t\", header=None, encoding='latin-1', quoting=csv.QUOTE_NONE))\n",
    "\n",
    "    data = data.drop(1, axis='columns') # drop profile's column (human/bot)\n",
    "    data = data.rename(columns={0: 'doc_id', 2: 'label', 3: 'content'})\n",
    "\n",
    "    data['doc_id'] = data['doc_id'].apply(lambda x: int(x)) # ids should be integers\n",
    "    data['label'] = data['label'].apply(lambda gender: 0 if gender == 'M' else 1) # male:0, female:1\n",
    "    \n",
    "    #group data by author\n",
    "    data = data.groupby(['doc_id', 'label'])['content'].apply(lambda content_list : \" \".join(content_list)).reset_index(name='content')\n",
    "    \n",
    "    return data"
   ]
  },
  {
   "cell_type": "code",
   "execution_count": 5,
   "metadata": {
    "ExecuteTime": {
     "end_time": "2019-10-28T10:29:04.484214Z",
     "start_time": "2019-10-28T10:29:04.471246Z"
    },
    "code_folding": [
     0
    ]
   },
   "outputs": [],
   "source": [
    "def preprocess_data(data):\n",
    "    \"\"\"\n",
    "    Applies preprocessing methods on the given dataframe.\n",
    "    The dataframe must contain following columns :  'doc_id' (int), 'label' (int) and 'content' (str).\n",
    "    Returns the dataframe.\n",
    "    \"\"\"\n",
    "    # text preprocessing\n",
    "    data['content'] = data['content'].apply(replace_mentions)\n",
    "    data['content'] = data['content'].apply(replace_hashtags)\n",
    "    \n",
    "    data['original_content'] = data['content'] # original content shouldn't be changed\n",
    "    \n",
    "    data['content'] = data['content'].apply(lambda content: content.lower())\n",
    "    # emojis ?\n",
    "    # concat tweets of same author ?\n",
    "    # remove punctuation ?\n",
    "    # remove stop-words\n",
    "    # stemming / lemmatization\n",
    "    \n",
    "    return data"
   ]
  },
  {
   "cell_type": "code",
   "execution_count": 54,
   "metadata": {
    "ExecuteTime": {
     "end_time": "2019-10-28T13:26:18.196484Z",
     "start_time": "2019-10-28T13:26:18.183390Z"
    },
    "code_folding": [
     0
    ]
   },
   "outputs": [],
   "source": [
    "def string_to_nparrays(string_array):\n",
    "    \"\"\"\n",
    "    Converts a list of string containing arrays to a list of numpy arrays.\n",
    "    Example : '[[1.1, 2.2], [3.3, 4.4]]' -> [np.array([1.1, 2.2]), np.array([3.3, 4.4])]\n",
    "    Returns the list of numpy arrays.\n",
    "    \"\"\"\n",
    "    return [np.array([value for value in array.replace('[', '').replace(']', '').split(', ')]).astype(np.float) \n",
    "            for array in string_array]"
   ]
  },
  {
   "cell_type": "code",
   "execution_count": 6,
   "metadata": {
    "ExecuteTime": {
     "end_time": "2019-10-28T10:29:04.501168Z",
     "start_time": "2019-10-28T10:29:04.490194Z"
    },
    "code_folding": [
     0
    ]
   },
   "outputs": [],
   "source": [
    "def replace_mentions(text):\n",
    "    \"\"\"\n",
    "    Replaces twitter mentions in the given text by a contant tag.\n",
    "    Returns the clean text.\n",
    "    \"\"\"\n",
    "    MENTIONS_REPLACEMENT_TAG = \"mention\"\n",
    "    MENTIONS_REGEXS = [\n",
    "        r'(@ [\\w\\d-]+(( _)|(_ )|( _ )|_)+[\\w\\d-]+)', # something + _ + something\n",
    "        r'(@ [\\w\\d-]+( [\\d-]+))', # something + space + numbers\n",
    "        r'(@ [\\w\\d-]+)', # something\n",
    "        ] \n",
    "\n",
    "    matches = re.findall('|'.join([f'({regex})' for regex in MENTIONS_REGEXS]), text)\n",
    "    for tuple_matches in matches:\n",
    "        if isinstance(tuple_matches, tuple):\n",
    "            mention = [mention for mention in tuple_matches if len(mention) >= 3][0] # keep the first match which contains at least 3 characters\n",
    "        else:\n",
    "            mention = tuple_matches\n",
    "        text = text.replace(mention, MENTIONS_REPLACEMENT_TAG)\n",
    "    return text"
   ]
  },
  {
   "cell_type": "code",
   "execution_count": 7,
   "metadata": {
    "ExecuteTime": {
     "end_time": "2019-10-28T10:29:04.518120Z",
     "start_time": "2019-10-28T10:29:04.505155Z"
    },
    "code_folding": [
     0
    ]
   },
   "outputs": [],
   "source": [
    "def replace_hashtags(text):\n",
    "    \"\"\"\n",
    "    Replaces twitter hashtags in the given text by a contant tag.\n",
    "    Returns the clean text.\n",
    "    \"\"\"\n",
    "    HASHTAGS_REPLACEMENT_TAG = \"hashtag\"\n",
    "    HASHTAGS_REGEXS = [\n",
    "        r'(# [\\w\\d_-]+( \\d+)*)',\n",
    "        r'(# [\\w\\d_-]+)',\n",
    "        ] \n",
    "\n",
    "    matches = re.findall('|'.join([f'({regex})' for regex in HASHTAGS_REGEXS]), text)\n",
    "    for tuple_matches in matches:\n",
    "        if isinstance(tuple_matches, tuple):\n",
    "            hashtag = [hashtag for hashtag in tuple_matches if len(hashtag) >= 3][0] # keep the first match which contains at least 3 characters\n",
    "        else:\n",
    "            hashtag = tuple_matches\n",
    "        text = text.replace(hashtag, HASHTAGS_REPLACEMENT_TAG)\n",
    "    return text"
   ]
  },
  {
   "cell_type": "markdown",
   "metadata": {},
   "source": [
    "# Dataset statistics"
   ]
  },
  {
   "cell_type": "code",
   "execution_count": 8,
   "metadata": {
    "ExecuteTime": {
     "end_time": "2019-10-28T10:29:04.529091Z",
     "start_time": "2019-10-28T10:29:04.521112Z"
    },
    "code_folding": [
     0
    ]
   },
   "outputs": [],
   "source": [
    "def display_dataset_stats(data):\n",
    "    \"\"\"\n",
    "    Displays statistics for \n",
    "    - number of words (min/max/avg)\n",
    "    - number of characters (min/max/avg)\n",
    "    - number of documents\n",
    "    - number of documents written by a man/woman\n",
    "    \"\"\"\n",
    "    #feature_nb_word = (compute_dataframe_features(data, {'nb_word' : True}) if 'nb_word' not in data.columns else data)['nb_word']\n",
    "    #print(f'Number of words per document. Average : {feature_nb_word.mean()}, Min : {feature_nb_word.min()}, Max : {feature_nb_word.max()}')\n",
    "    \n",
    "    #feature_nb_characters = (compute_dataframe_features(data, {'nb_characters' : True}) if 'nb_characters' not in data.columns else data)['nb_characters']\n",
    "    #print(f'Number of characters per document. Average : {feature_nb_characters.mean()}, Min : {feature_nb_characters.min()}, Max : {feature_nb_characters.max()}')\n",
    "     \n",
    "    print(f'Number of documents written by a man : {len([x for x in data[\"label\"] if x == 0])}')\n",
    "    print(f'Number of documents written by a woman : {len([x for x in data[\"label\"] if x == 1])}')   "
   ]
  },
  {
   "cell_type": "markdown",
   "metadata": {},
   "source": [
    "# Features"
   ]
  },
  {
   "cell_type": "code",
   "execution_count": 9,
   "metadata": {
    "ExecuteTime": {
     "end_time": "2019-10-28T10:29:04.540069Z",
     "start_time": "2019-10-28T10:29:04.534080Z"
    },
    "code_folding": [
     0
    ]
   },
   "outputs": [],
   "source": [
    "def compute_feature_nb_characters(row, feature_name):\n",
    "    \"\"\"\n",
    "    Computes the feature nb_character for the given row.\n",
    "    Returns the row with the new feature.\n",
    "    \"\"\"\n",
    "    return len(row['content'])"
   ]
  },
  {
   "cell_type": "code",
   "execution_count": 10,
   "metadata": {
    "ExecuteTime": {
     "end_time": "2019-10-28T10:29:04.549037Z",
     "start_time": "2019-10-28T10:29:04.543054Z"
    },
    "code_folding": [
     0
    ]
   },
   "outputs": [],
   "source": [
    "def compute_feature_nb_word(row, feature_name):\n",
    "    \"\"\"\n",
    "    Computes the feature nb_word for the given row\n",
    "    Return the row with the new feature.\n",
    "    \"\"\"\n",
    "    doc = nlp(row['content'])\n",
    "    return len(doc)"
   ]
  },
  {
   "cell_type": "code",
   "execution_count": 11,
   "metadata": {
    "ExecuteTime": {
     "end_time": "2019-10-28T10:29:04.559010Z",
     "start_time": "2019-10-28T10:29:04.552029Z"
    },
    "code_folding": [
     0
    ]
   },
   "outputs": [],
   "source": [
    "def compute_feature_nb_noun(row, feature_name):\n",
    "    \"\"\"\n",
    "    Computes the feature nb_noun for the given row\n",
    "    Return the row with the new feature.\n",
    "    \"\"\"\n",
    "    doc = nlp(row['content'])\n",
    "    return len([token for token in doc if token.pos_ == \"NOUN\"])"
   ]
  },
  {
   "cell_type": "code",
   "execution_count": 12,
   "metadata": {
    "ExecuteTime": {
     "end_time": "2019-10-28T10:29:04.568983Z",
     "start_time": "2019-10-28T10:29:04.562002Z"
    },
    "code_folding": [
     0
    ]
   },
   "outputs": [],
   "source": [
    "def compute_feature_nb_pronoun(row, feature_name):\n",
    "    \"\"\"\n",
    "    Computes the feature nb_pronoun for the given row\n",
    "    Return the row with the new feature.\n",
    "    \"\"\"\n",
    "    doc = nlp(row['content'])\n",
    "    return len([token for token in doc if token.pos_ == \"PRON\"])"
   ]
  },
  {
   "cell_type": "code",
   "execution_count": 13,
   "metadata": {
    "ExecuteTime": {
     "end_time": "2019-10-28T10:29:04.580952Z",
     "start_time": "2019-10-28T10:29:04.571975Z"
    },
    "code_folding": [
     0
    ]
   },
   "outputs": [],
   "source": [
    "def compute_row_features(row, features_dict):\n",
    "    \"\"\"\n",
    "    Computes the features specified in the given dictionary for the given row.\n",
    "    Returns the row with the new features.\n",
    "    \"\"\"\n",
    "    features = []\n",
    "    for feature_name, is_feature_used in features_dict.items():\n",
    "        if is_feature_used:\n",
    "            if feature_name == 'nb_characters':\n",
    "                features.append(compute_feature_nb_characters(row, feature_name))\n",
    "            elif feature_name == 'nb_word':\n",
    "                features.append(compute_feature_nb_word(row, feature_name))\n",
    "            elif feature_name == 'nb_noun':\n",
    "                features.append(compute_feature_nb_noun(row, feature_name))\n",
    "            elif feature_name == 'nb_pronoun':\n",
    "                features.append(compute_feature_nb_pronoun(row, feature_name))\n",
    "    return features"
   ]
  },
  {
   "cell_type": "code",
   "execution_count": 73,
   "metadata": {
    "ExecuteTime": {
     "end_time": "2019-10-28T14:24:57.000324Z",
     "start_time": "2019-10-28T14:24:56.993342Z"
    },
    "code_folding": [
     0
    ]
   },
   "outputs": [],
   "source": [
    "def compute_dataframe_features(data, features_dict):\n",
    "    \"\"\"\n",
    "    Computes the features specified in the given dictionary for the whole dataframe.\n",
    "    Returns the dataframe with the new features.\n",
    "    \"\"\"\n",
    "    features = []\n",
    "    for _, row in data.iterrows():\n",
    "        features.append(compute_row_features(row, features_dict))\n",
    "    data['features'] = features\n",
    "    features = np.swapaxes(np.array(features), 0, 1)\n",
    "    i = 0\n",
    "    for feature_name, is_feature_used in features_dict.items():\n",
    "        if is_feature_used:\n",
    "            data[feature_name] = features[i]\n",
    "            i += 1\n",
    "    return data"
   ]
  },
  {
   "cell_type": "code",
   "execution_count": 15,
   "metadata": {
    "ExecuteTime": {
     "end_time": "2019-10-28T10:29:04.603891Z",
     "start_time": "2019-10-28T10:29:04.597906Z"
    },
    "code_folding": [
     0
    ]
   },
   "outputs": [],
   "source": [
    "def scale_data(scaler, X_train, X_test):\n",
    "    \"\"\"\n",
    "    Uses a Scikit-Learn scaler to scale the data.\n",
    "    Returns the scaled X_train and X_test.\n",
    "    \"\"\"\n",
    "    scaler = scaler()\n",
    "    X_train = scaler.fit_transform(X_train)\n",
    "    X_test = scaler.transform(X_test)\n",
    "    return X_train, X_test"
   ]
  },
  {
   "cell_type": "markdown",
   "metadata": {},
   "source": [
    "# Classification"
   ]
  },
  {
   "cell_type": "code",
   "execution_count": 16,
   "metadata": {
    "ExecuteTime": {
     "end_time": "2019-10-28T10:29:04.616856Z",
     "start_time": "2019-10-28T10:29:04.606883Z"
    },
    "code_folding": [
     0
    ]
   },
   "outputs": [],
   "source": [
    "def train_model(classifier, X_train, y_train, X_test, y_test, params, pot_confusion_matrix=True):\n",
    "    \"\"\"\n",
    "    Initializes an instance of the given classification model with its parameters.\n",
    "    Trains and evaluates the classifier before returning it with the classification scores.\n",
    "    \"\"\"\n",
    "    model = classifier(**params)\n",
    "    model.fit(X_train, y_train)\n",
    "    y_pred = model.predict(X_test)\n",
    "    scores = [accuracy_score(y_test, y_pred), \n",
    "              precision_score(y_test, y_pred, average=None), \n",
    "              recall_score(y_test, y_pred, average=None)]\n",
    "    if pot_confusion_matrix:\n",
    "        plot_confusion_matrix(y_test, y_pred, np.array(['Man', 'Woman']), normalize=True)\n",
    "    return model, scores"
   ]
  },
  {
   "cell_type": "code",
   "execution_count": 17,
   "metadata": {
    "ExecuteTime": {
     "end_time": "2019-10-28T10:29:04.639797Z",
     "start_time": "2019-10-28T10:29:04.619848Z"
    },
    "code_folding": [
     0
    ]
   },
   "outputs": [],
   "source": [
    "# Source: https://scikit-learn.org/stable/auto_examples/model_selection/plot_confusion_matrix.html\n",
    "def plot_confusion_matrix(y_true, y_pred, classes, normalize=False, title=None, cmap=plt.cm.Blues):\n",
    "    \"\"\"\n",
    "    This function prints and plots the confusion matrix.\n",
    "    Normalization can be applied by setting `normalize=True`.\n",
    "    \"\"\"\n",
    "    if not title:\n",
    "        if normalize:\n",
    "            title = 'Normalized confusion matrix'\n",
    "        else:\n",
    "            title = 'Confusion matrix, without normalization'\n",
    "\n",
    "    # Compute confusion matrix\n",
    "    cm = confusion_matrix(y_true, y_pred)\n",
    "    # Only use the labels that appear in the data\n",
    "    classes = classes[unique_labels(y_true, y_pred)]\n",
    "    if normalize:\n",
    "        cm = cm.astype('float') / cm.sum(axis=1)[:, np.newaxis]\n",
    "\n",
    "    fig, ax = plt.subplots()\n",
    "    im = ax.imshow(cm, interpolation='nearest', cmap=cmap)\n",
    "    ax.figure.colorbar(im, ax=ax)\n",
    "    # We want to show all ticks...\n",
    "    ax.set(xticks=np.arange(cm.shape[1]),\n",
    "           yticks=np.arange(cm.shape[0]),\n",
    "           # ... and label them with the respective list entries\n",
    "           xticklabels=classes, yticklabels=classes,\n",
    "           title=title,\n",
    "           ylabel='True label',\n",
    "           xlabel='Predicted label')\n",
    "\n",
    "    # Rotate the tick labels and set their alignment.\n",
    "    plt.setp(ax.get_xticklabels(), rotation=45, ha=\"right\",\n",
    "             rotation_mode=\"anchor\")\n",
    "\n",
    "    # Loop over data dimensions and create text annotations.\n",
    "    fmt = '.2f' if normalize else 'd'\n",
    "    thresh = cm.max() / 2.\n",
    "    for i in range(cm.shape[0]):\n",
    "        for j in range(cm.shape[1]):\n",
    "            ax.text(j, i, format(cm[i, j], fmt),\n",
    "                    ha=\"center\", va=\"center\",\n",
    "                    color=\"white\" if cm[i, j] > thresh else \"black\")\n",
    "    fig.tight_layout()\n",
    "    return ax"
   ]
  },
  {
   "cell_type": "markdown",
   "metadata": {
    "ExecuteTime": {
     "end_time": "2019-10-03T14:29:25.722113Z",
     "start_time": "2019-10-03T14:29:25.718123Z"
    }
   },
   "source": [
    "# Data visualization"
   ]
  },
  {
   "cell_type": "code",
   "execution_count": 50,
   "metadata": {
    "ExecuteTime": {
     "end_time": "2019-10-28T11:10:22.641333Z",
     "start_time": "2019-10-28T11:10:22.603924Z"
    },
    "code_folding": [
     0
    ]
   },
   "outputs": [],
   "source": [
    "def plot_data(X_train, y_train, X_test, y_test):\n",
    "    \"\"\"\n",
    "    Uses t-SNE to plot an approximation of the data projected in 2d.\n",
    "    \"\"\"\n",
    "    X_train_embedded = TSNE(n_components=2).fit_transform(X_train)\n",
    "    X_test_embedded = TSNE(n_components=2).fit_transform(X_test)\n",
    "    category_to_color = {0: 'blue', 1: 'red'}\n",
    "    category_to_label_train = {0: 'Man (training set)', 1: 'Woman (training set)'}\n",
    "    category_to_label_test = {0: 'Man (test set)', 1: 'Woman (test set)'}\n",
    "    \n",
    "    plt.figure(figsize=(10,10))\n",
    "    for category in category_to_color.keys():\n",
    "        plt_x_train = [X_train_embedded[i,0] for i, cat in enumerate(y_train) if cat == category]\n",
    "        plt_y_train = [X_train_embedded[i,1] for i, cat in enumerate(y_train) if cat == category]\n",
    "        plt_x_test = [X_test_embedded[i,0] for i, cat in enumerate(y_test) if cat == category]\n",
    "        plt_y_test = [X_test_embedded[i,1] for i, cat in enumerate(y_test) if cat == category]\n",
    "        plt.scatter(plt_x_train, plt_y_train, marker='.', color=category_to_color[category], label=category_to_label_train[category], alpha=0.6)\n",
    "        plt.scatter(plt_x_test, plt_y_test, marker='x', color=category_to_color[category], label=category_to_label_test[category], alpha=0.6)\n",
    "        plt.legend(loc='best')\n",
    "    plt.title('Corpus entries\\' visualization')\n",
    "    plt.show()"
   ]
  },
  {
   "cell_type": "markdown",
   "metadata": {},
   "source": [
    "# Constants"
   ]
  },
  {
   "cell_type": "code",
   "execution_count": 81,
   "metadata": {
    "ExecuteTime": {
     "end_time": "2019-10-28T14:32:51.659288Z",
     "start_time": "2019-10-28T14:32:51.642336Z"
    },
    "code_folding": []
   },
   "outputs": [],
   "source": [
    "# define constants here...\n",
    "\n",
    "# data\n",
    "LOAD_DATA_FROM_CSV = True\n",
    "DATA_CSV_FILE = './data/processed_dataset.csv'\n",
    "\n",
    "# features\n",
    "features = {\n",
    "    'nb_characters': True,\n",
    "    'nb_word' : True,\n",
    "    'nb_noun' : True,\n",
    "    'nb_pronoun' : True,\n",
    "    'nb_tokens': False,\n",
    "    'nb_big_words': False,\n",
    "    'nb_lexical_words': False,\n",
    "}\n",
    "\n",
    "# models\n",
    "CLASSIFIER = CatBoostClassifier # [CatBoostClassifier]\n",
    "SCALER = StandardScaler # [None, StandardScaler, MinMaxScaler, MaxAbsScaler, RobustScaler]\n",
    "\n",
    "# models' parameters\n",
    "PARAMS = {\n",
    "    CatBoostClassifier: {\n",
    "        'iterations':200, \n",
    "        'depth':6, \n",
    "        'learning_rate':0.2, \n",
    "        'loss_function':'CrossEntropy', \n",
    "        'custom_metric':['Accuracy', 'Recall', 'Precision'], \n",
    "        'verbose':False},\n",
    "}\n",
    "GRIDSEARCH_PARAMS_RANGE = {\n",
    "    CatBoostClassifier: {\n",
    "        'loss_function': ['Logloss', 'CrossEntropy'],\n",
    "        'iterations': [250,100,500,1000],\n",
    "        'depth': [3,1,2,6,4,5,7,8,9,10],\n",
    "        'learning_rate': [0.03,0.001,0.01,0.1,0.2,0.3], \n",
    "    }\n",
    "}\n",
    "\n",
    "# training\n",
    "GRIDSEARCH_NB_CV_SPLITS = 2\n",
    "TEST_SIZE = 0.2\n",
    "\n",
    "# ---- constants' validity check\n",
    "assert GRIDSEARCH_NB_CV_SPLITS > 1\n",
    "assert CLASSIFIER in [CatBoostClassifier]\n",
    "assert SCALER in [None, StandardScaler, MinMaxScaler, MaxAbsScaler, RobustScaler]\n",
    "assert TEST_SIZE > 0.0 and TEST_SIZE < 1.0"
   ]
  },
  {
   "cell_type": "markdown",
   "metadata": {},
   "source": [
    "# Main"
   ]
  },
  {
   "cell_type": "code",
   "execution_count": 82,
   "metadata": {
    "ExecuteTime": {
     "end_time": "2019-10-28T14:32:52.696429Z",
     "start_time": "2019-10-28T14:32:52.453116Z"
    },
    "code_folding": [
     1,
     11
    ]
   },
   "outputs": [
    {
     "name": "stdout",
     "output_type": "stream",
     "text": [
      "Dataset loaded!\n"
     ]
    }
   ],
   "source": [
    "# load the data\n",
    "if LOAD_DATA_FROM_CSV and os.path.isfile(DATA_CSV_FILE) :\n",
    "    data = pd.read_csv(DATA_CSV_FILE, sep='\\t')\n",
    "    features_column = 'scaled_features' if 'scaled_features' in data else 'features'\n",
    "    train_entries = data.loc[data['train_entry'] == 1]\n",
    "    test_entries = data.loc[data['train_entry'] == 0]\n",
    "    X_train = string_to_nparrays(train_entries[features_column].tolist())\n",
    "    y_train = train_entries['label'].tolist()\n",
    "    X_test = string_to_nparrays(test_entries[features_column].tolist())\n",
    "    y_test = test_entries['label'].tolist()\n",
    "    \n",
    "else:\n",
    "    if LOAD_DATA_FROM_CSV:\n",
    "        print(f'Can\\'t load data from CSV. File does not exist: {DATA_CSV_FILE}\\nCreating dataset...')\n",
    "    data = load_data()\n",
    "    data = preprocess_data(data)\n",
    "    \n",
    "    # split train/test sets\n",
    "    X_train_indices, X_test_indices = next(StratifiedShuffleSplit(n_splits=1, test_size=TEST_SIZE).split(data, np.array(data['label'].tolist())))\n",
    "    data['train_entry'] = [1 if i in X_train_indices else 0 for i in data.index]\n",
    "\n",
    "    # compute features\n",
    "    data = compute_dataframe_features(data, features)\n",
    "    \n",
    "    X_train = np.array(data.iloc[X_train_indices, :]['features'].tolist())\n",
    "    y_train = np.array(data.iloc[X_train_indices, :]['label'].tolist())\n",
    "    X_test = np.array(data.iloc[X_test_indices, :]['features'].tolist())\n",
    "    y_test = np.array(data.iloc[X_test_indices, :]['label'].tolist())\n",
    "    \n",
    "    # scale data\n",
    "    if SCALER is not None:\n",
    "        X_train, X_test = scale_data(SCALER, X_train, X_test)\n",
    "        data = data.assign(scaled_features=pd.Series(X_train.tolist() + X_test.tolist()))\n",
    "        \n",
    "    # export the dataset as CSV\n",
    "    data.to_csv(DATA_CSV_FILE, sep='\\t')\n",
    "print('Dataset loaded!')"
   ]
  },
  {
   "cell_type": "code",
   "execution_count": 83,
   "metadata": {
    "ExecuteTime": {
     "end_time": "2019-10-28T14:32:56.636964Z",
     "start_time": "2019-10-28T14:32:56.607048Z"
    },
    "scrolled": true
   },
   "outputs": [
    {
     "name": "stdout",
     "output_type": "stream",
     "text": [
      "Number of documents written by a man : 21\n",
      "Number of documents written by a woman : 29\n",
      "(50, 12)\n"
     ]
    },
    {
     "data": {
      "text/html": [
       "<div>\n",
       "<style scoped>\n",
       "    .dataframe tbody tr th:only-of-type {\n",
       "        vertical-align: middle;\n",
       "    }\n",
       "\n",
       "    .dataframe tbody tr th {\n",
       "        vertical-align: top;\n",
       "    }\n",
       "\n",
       "    .dataframe thead th {\n",
       "        text-align: right;\n",
       "    }\n",
       "</style>\n",
       "<table border=\"1\" class=\"dataframe\">\n",
       "  <thead>\n",
       "    <tr style=\"text-align: right;\">\n",
       "      <th></th>\n",
       "      <th>Unnamed: 0</th>\n",
       "      <th>doc_id</th>\n",
       "      <th>label</th>\n",
       "      <th>content</th>\n",
       "      <th>original_content</th>\n",
       "      <th>train_entry</th>\n",
       "      <th>features</th>\n",
       "      <th>nb_characters</th>\n",
       "      <th>nb_word</th>\n",
       "      <th>nb_noun</th>\n",
       "      <th>nb_pronoun</th>\n",
       "      <th>scaled_features</th>\n",
       "    </tr>\n",
       "  </thead>\n",
       "  <tbody>\n",
       "    <tr>\n",
       "      <td>0</td>\n",
       "      <td>0</td>\n",
       "      <td>0</td>\n",
       "      <td>1</td>\n",
       "      <td>alex is too nice for love island :(  rt mentio...</td>\n",
       "      <td>alex is too nice for love island :(  rt mentio...</td>\n",
       "      <td>1</td>\n",
       "      <td>[6509, 1466, 407, 74]</td>\n",
       "      <td>6509</td>\n",
       "      <td>1466</td>\n",
       "      <td>407</td>\n",
       "      <td>74</td>\n",
       "      <td>[-0.4244850619016844, -0.6007366889850528, -0....</td>\n",
       "    </tr>\n",
       "    <tr>\n",
       "      <td>1</td>\n",
       "      <td>1</td>\n",
       "      <td>1</td>\n",
       "      <td>1</td>\n",
       "      <td>rt mention : the crypto finance ecosystem by m...</td>\n",
       "      <td>rt mention : the crypto finance ecosystem by m...</td>\n",
       "      <td>1</td>\n",
       "      <td>[11457, 2380, 766, 100]</td>\n",
       "      <td>11457</td>\n",
       "      <td>2380</td>\n",
       "      <td>766</td>\n",
       "      <td>100</td>\n",
       "      <td>[-1.261004864490673, -1.0603050432289751, -1.3...</td>\n",
       "    </tr>\n",
       "    <tr>\n",
       "      <td>2</td>\n",
       "      <td>2</td>\n",
       "      <td>5</td>\n",
       "      <td>1</td>\n",
       "      <td>mention mention !!!!!  mention mention x  i fu...</td>\n",
       "      <td>mention mention !!!!!  mention mention x  i fu...</td>\n",
       "      <td>1</td>\n",
       "      <td>[6008, 1341, 349, 71]</td>\n",
       "      <td>6008</td>\n",
       "      <td>1341</td>\n",
       "      <td>349</td>\n",
       "      <td>71</td>\n",
       "      <td>[-0.9614882402585988, -0.8624353351517308, -0....</td>\n",
       "    </tr>\n",
       "    <tr>\n",
       "      <td>3</td>\n",
       "      <td>3</td>\n",
       "      <td>6</td>\n",
       "      <td>0</td>\n",
       "      <td>mention ahaha last time acting reckless ðð...</td>\n",
       "      <td>mention ahaha last time acting reckless ðð...</td>\n",
       "      <td>1</td>\n",
       "      <td>[5463, 1070, 281, 74]</td>\n",
       "      <td>5463</td>\n",
       "      <td>1070</td>\n",
       "      <td>281</td>\n",
       "      <td>74</td>\n",
       "      <td>[-0.3527074093490275, -0.2752091047289412, -0....</td>\n",
       "    </tr>\n",
       "    <tr>\n",
       "      <td>4</td>\n",
       "      <td>4</td>\n",
       "      <td>8</td>\n",
       "      <td>1</td>\n",
       "      <td>i ' m so excited for the boojum i ' m about to...</td>\n",
       "      <td>i ' m so excited for the boojum i ' m about to...</td>\n",
       "      <td>1</td>\n",
       "      <td>[8035, 1809, 387, 191]</td>\n",
       "      <td>8035</td>\n",
       "      <td>1809</td>\n",
       "      <td>387</td>\n",
       "      <td>191</td>\n",
       "      <td>[1.1745615310769493, 1.5481708933592133, 1.225...</td>\n",
       "    </tr>\n",
       "  </tbody>\n",
       "</table>\n",
       "</div>"
      ],
      "text/plain": [
       "   Unnamed: 0  doc_id  label  \\\n",
       "0           0       0      1   \n",
       "1           1       1      1   \n",
       "2           2       5      1   \n",
       "3           3       6      0   \n",
       "4           4       8      1   \n",
       "\n",
       "                                             content  \\\n",
       "0  alex is too nice for love island :(  rt mentio...   \n",
       "1  rt mention : the crypto finance ecosystem by m...   \n",
       "2  mention mention !!!!!  mention mention x  i fu...   \n",
       "3  mention ahaha last time acting reckless ðð...   \n",
       "4  i ' m so excited for the boojum i ' m about to...   \n",
       "\n",
       "                                    original_content  train_entry  \\\n",
       "0  alex is too nice for love island :(  rt mentio...            1   \n",
       "1  rt mention : the crypto finance ecosystem by m...            1   \n",
       "2  mention mention !!!!!  mention mention x  i fu...            1   \n",
       "3  mention ahaha last time acting reckless ðð...            1   \n",
       "4  i ' m so excited for the boojum i ' m about to...            1   \n",
       "\n",
       "                  features  nb_characters  nb_word  nb_noun  nb_pronoun  \\\n",
       "0    [6509, 1466, 407, 74]           6509     1466      407          74   \n",
       "1  [11457, 2380, 766, 100]          11457     2380      766         100   \n",
       "2    [6008, 1341, 349, 71]           6008     1341      349          71   \n",
       "3    [5463, 1070, 281, 74]           5463     1070      281          74   \n",
       "4   [8035, 1809, 387, 191]           8035     1809      387         191   \n",
       "\n",
       "                                     scaled_features  \n",
       "0  [-0.4244850619016844, -0.6007366889850528, -0....  \n",
       "1  [-1.261004864490673, -1.0603050432289751, -1.3...  \n",
       "2  [-0.9614882402585988, -0.8624353351517308, -0....  \n",
       "3  [-0.3527074093490275, -0.2752091047289412, -0....  \n",
       "4  [1.1745615310769493, 1.5481708933592133, 1.225...  "
      ]
     },
     "execution_count": 83,
     "metadata": {},
     "output_type": "execute_result"
    }
   ],
   "source": [
    "display_dataset_stats(data)\n",
    "print(data.shape)\n",
    "data.head()"
   ]
  },
  {
   "cell_type": "code",
   "execution_count": 84,
   "metadata": {
    "ExecuteTime": {
     "end_time": "2019-10-28T14:33:12.639002Z",
     "start_time": "2019-10-28T14:33:12.097747Z"
    },
    "code_folding": []
   },
   "outputs": [
    {
     "data": {
      "image/png": "[encoded data removed]",
      "text/plain": [
       "<Figure size 720x720 with 1 Axes>"
      ]
     },
     "metadata": {
      "needs_background": "light"
     },
     "output_type": "display_data"
    }
   ],
   "source": [
    "# t-SNE (, Shap)\n",
    "plot_data(X_train, y_train, X_test, y_test)"
   ]
  },
  {
   "cell_type": "code",
   "execution_count": null,
   "metadata": {},
   "outputs": [],
   "source": [
    "# wordcloud"
   ]
  },
  {
   "cell_type": "code",
   "execution_count": null,
   "metadata": {
    "ExecuteTime": {
     "end_time": "2019-10-08T22:20:29.250848Z",
     "start_time": "2019-10-08T22:20:22.212Z"
    },
    "code_folding": [
     0
    ]
   },
   "outputs": [],
   "source": [
    "# gridsearch\n",
    "clf = GridSearchCV(CLASSIFIER(), GRIDSEARCH_PARAMS_RANGE[CLASSIFIER], cv=GRIDSEARCH_NB_CV_SPLITS)\n",
    "clf.fit(X, y)\n",
    "print(f'Best classification score: {clf.best_score_}')\n",
    "print(f'Best parameters: {clf.best_params_}')"
   ]
  },
  {
   "cell_type": "code",
   "execution_count": 85,
   "metadata": {
    "ExecuteTime": {
     "end_time": "2019-10-28T14:33:20.175192Z",
     "start_time": "2019-10-28T14:33:17.062018Z"
    },
    "code_folding": []
   },
   "outputs": [
    {
     "name": "stdout",
     "output_type": "stream",
     "text": [
      "Time to train the classifier: 0.0 m\n"
     ]
    },
    {
     "data": {
      "image/png": "[encoded data removed]",
      "text/plain": [
       "<Figure size 432x288 with 2 Axes>"
      ]
     },
     "metadata": {
      "needs_background": "light"
     },
     "output_type": "display_data"
    }
   ],
   "source": [
    "# training\n",
    "start_time = time.time()\n",
    "model, scores = train_model(CLASSIFIER, X_train, y_train, X_test, y_test, PARAMS[CLASSIFIER])\n",
    "print(f'Time to train the classifier: {round((time.time()-start_time)/60, 1)} m')"
   ]
  },
  {
   "cell_type": "code",
   "execution_count": 86,
   "metadata": {
    "ExecuteTime": {
     "end_time": "2019-10-28T14:33:20.205140Z",
     "start_time": "2019-10-28T14:33:20.178185Z"
    },
    "code_folding": [],
    "scrolled": true
   },
   "outputs": [
    {
     "name": "stdout",
     "output_type": "stream",
     "text": [
      "Mean accuracy: 0.100\n"
     ]
    },
    {
     "data": {
      "text/html": [
       "<div>\n",
       "<style scoped>\n",
       "    .dataframe tbody tr th:only-of-type {\n",
       "        vertical-align: middle;\n",
       "    }\n",
       "\n",
       "    .dataframe tbody tr th {\n",
       "        vertical-align: top;\n",
       "    }\n",
       "\n",
       "    .dataframe thead th {\n",
       "        text-align: right;\n",
       "    }\n",
       "</style>\n",
       "<table border=\"1\" class=\"dataframe\">\n",
       "  <thead>\n",
       "    <tr style=\"text-align: right;\">\n",
       "      <th></th>\n",
       "      <th>Model</th>\n",
       "      <th>Accuracy</th>\n",
       "      <th>Precision</th>\n",
       "      <th>Recall</th>\n",
       "    </tr>\n",
       "  </thead>\n",
       "  <tbody>\n",
       "    <tr>\n",
       "      <td>0</td>\n",
       "      <td>&lt;catboost.core.CatBoostClassifier object at 0x...</td>\n",
       "      <td>0.1</td>\n",
       "      <td>[0.14285714285714285, 0.0]</td>\n",
       "      <td>[0.25, 0.0]</td>\n",
       "    </tr>\n",
       "  </tbody>\n",
       "</table>\n",
       "</div>"
      ],
      "text/plain": [
       "                                               Model  Accuracy  \\\n",
       "0  <catboost.core.CatBoostClassifier object at 0x...       0.1   \n",
       "\n",
       "                    Precision       Recall  \n",
       "0  [0.14285714285714285, 0.0]  [0.25, 0.0]  "
      ]
     },
     "execution_count": 86,
     "metadata": {},
     "output_type": "execute_result"
    }
   ],
   "source": [
    "# metrics\n",
    "try:\n",
    "    models_and_scores\n",
    "except:\n",
    "    models_and_scores = None\n",
    "if True: #not isinstance(models_and_scores, pd.DataFrame)\n",
    "    models_and_scores = pd.DataFrame([np.array([model, scores])], columns=['Model', 'Scores'])\n",
    "    models_and_scores['Accuracy'] = models_and_scores['Scores'].apply(lambda scores: scores[0])\n",
    "    models_and_scores['Precision'] = models_and_scores['Scores'].apply(lambda scores: scores[1])\n",
    "    models_and_scores['Recall'] = models_and_scores['Scores'].apply(lambda scores: scores[2])\n",
    "    models_and_scores = models_and_scores.drop('Scores', axis='columns')\n",
    "\n",
    "print('Mean accuracy: {:.3f}'.format(models_and_scores[\"Accuracy\"].mean()))\n",
    "models_and_scores.head()"
   ]
  },
  {
   "cell_type": "code",
   "execution_count": null,
   "metadata": {},
   "outputs": [],
   "source": []
  }
 ],
 "metadata": {
  "kernelspec": {
   "display_name": "Python 3",
   "language": "python",
   "name": "python3"
  },
  "language_info": {
   "codemirror_mode": {
    "name": "ipython",
    "version": 3
   },
   "file_extension": ".py",
   "mimetype": "text/x-python",
   "name": "python",
   "nbconvert_exporter": "python",
   "pygments_lexer": "ipython3",
   "version": "3.7.4"
  },
  "toc": {
   "base_numbering": 1,
   "nav_menu": {},
   "number_sections": true,
   "sideBar": true,
   "skip_h1_title": false,
   "title_cell": "Table of Contents",
   "title_sidebar": "Contents",
   "toc_cell": false,
   "toc_position": {},
   "toc_section_display": true,
   "toc_window_display": false
  }
 },
 "nbformat": 4,
 "nbformat_minor": 2
}
