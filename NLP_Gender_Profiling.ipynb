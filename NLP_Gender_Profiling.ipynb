{
 "cells": [
  {
   "cell_type": "raw",
   "metadata": {},
   "source": [
    "MCS - BeNeFri\n",
    "Seminar of Natural Language Processing, Fall 2019\n",
    "Gender Profiling on tweets\n",
    "Authors: @chacungu, @fabienvorpe"
   ]
  },
  {
   "cell_type": "markdown",
   "metadata": {},
   "source": [
    "# Imports"
   ]
  },
  {
   "cell_type": "code",
   "execution_count": 7,
   "metadata": {
    "ExecuteTime": {
     "end_time": "2019-10-01T18:07:21.573545Z",
     "start_time": "2019-10-01T18:07:21.568188Z"
    }
   },
   "outputs": [],
   "source": [
    "import numpy as np\n",
    "import pandas as pd\n",
    "import re\n",
    "from tqdm import tqdm"
   ]
  },
  {
   "cell_type": "markdown",
   "metadata": {},
   "source": [
    "# Data preprocessing"
   ]
  },
  {
   "cell_type": "code",
   "execution_count": 8,
   "metadata": {
    "ExecuteTime": {
     "end_time": "2019-10-01T18:07:21.837125Z",
     "start_time": "2019-10-01T18:07:21.825582Z"
    },
    "code_folding": [
     0
    ]
   },
   "outputs": [],
   "source": [
    "def replace_mentions(text):\n",
    "    \"\"\"\n",
    "    Replaces twitter mentions in the given text by a contant tag.\n",
    "    Returns the clean text.\n",
    "    \"\"\"\n",
    "    MENTIONS_REPLACEMENT_TAG = \"mention\"\n",
    "    MENTIONS_REGEXS = [\n",
    "        r'(@ [\\w\\d-]+(( _)|(_ )|( _ )|_)+[\\w\\d-]+)', # something + _ + something\n",
    "        r'(@ [\\w\\d-]+( [\\d-]+))', # something + space + numbers\n",
    "        r'(@ [\\w\\d-]+)', # something\n",
    "        ] \n",
    "\n",
    "    matches = re.findall('|'.join([f'({regex})' for regex in MENTIONS_REGEXS]), text)\n",
    "    for tuple_matches in matches:\n",
    "        if isinstance(tuple_matches, tuple):\n",
    "            mention = [mention for mention in tuple_matches if len(mention) >= 3][0] # keep the first match which contains at least 3 characters\n",
    "        else:\n",
    "            mention = tuple_matches\n",
    "        text = text.replace(mention, MENTIONS_REPLACEMENT_TAG)\n",
    "    return text"
   ]
  },
  {
   "cell_type": "code",
   "execution_count": 9,
   "metadata": {
    "ExecuteTime": {
     "end_time": "2019-10-01T18:07:21.954588Z",
     "start_time": "2019-10-01T18:07:21.941808Z"
    },
    "code_folding": [
     0
    ]
   },
   "outputs": [],
   "source": [
    "def replace_hashtags(text):\n",
    "    \"\"\"\n",
    "    Replaces twitter hashtags in the given text by a contant tag.\n",
    "    Returns the clean text.\n",
    "    \"\"\"\n",
    "    HASHTAGS_REPLACEMENT_TAG = \"hashtag\"\n",
    "    HASHTAGS_REGEXS = [\n",
    "        r'(# [\\w\\d_-]+( \\d+)*)',\n",
    "        r'(# [\\w\\d_-]+)',\n",
    "        ] \n",
    "\n",
    "    matches = re.findall('|'.join([f'({regex})' for regex in HASHTAGS_REGEXS]), text)\n",
    "    for tuple_matches in matches:\n",
    "        if isinstance(tuple_matches, tuple):\n",
    "            hashtag = [hashtag for hashtag in tuple_matches if len(hashtag) >= 3][0] # keep the first match which contains at least 3 characters\n",
    "        else:\n",
    "            hashtag = tuple_matches\n",
    "        text = text.replace(hashtag, HASHTAGS_REPLACEMENT_TAG)\n",
    "    return text"
   ]
  },
  {
   "cell_type": "code",
   "execution_count": 15,
   "metadata": {
    "ExecuteTime": {
     "end_time": "2019-10-01T18:07:46.948768Z",
     "start_time": "2019-10-01T18:07:46.938248Z"
    },
    "code_folding": [
     0
    ]
   },
   "outputs": [],
   "source": [
    "def load_data():\n",
    "    \"\"\"\n",
    "    Loads the data in a pandas' dataframe.\n",
    "    Returns the dataframe containing following columns : 'author_id' (int), 'label' (int) and 'content' (str).\n",
    "    \"\"\"\n",
    "    data = pd.DataFrame()\n",
    "    data_files = ['./data/AMale.txt', './data/AFemale.txt']\n",
    "\n",
    "    for data_file in data_files:\n",
    "        data = data.append(pd.read_csv(data_file, sep=\"\\t\", header=None, encoding='latin-1'))\n",
    "\n",
    "    data = data.drop(1, axis='columns') # drop profile's column (human/bot)\n",
    "    data = data.rename(columns={0: 'author_id', 2: 'label', 3: 'content'})\n",
    "\n",
    "    data['author_id'] = data['author_id'].apply(lambda x: int(x)) # ids should be integers\n",
    "    data['label'] = data['label'].apply(lambda gender: 0 if gender == 'M' else 1) # male:0, female:1\n",
    "    return data"
   ]
  },
  {
   "cell_type": "code",
   "execution_count": 16,
   "metadata": {
    "ExecuteTime": {
     "end_time": "2019-10-01T18:07:47.571798Z",
     "start_time": "2019-10-01T18:07:47.564629Z"
    },
    "code_folding": [
     0
    ]
   },
   "outputs": [],
   "source": [
    "def preprocess_data(data):\n",
    "    \"\"\"\n",
    "    Applies preprocessing methods on the given dataframe.\n",
    "    The dataframe must contain following columns :  'author_id' (int), 'label' (int) and 'content' (str).\n",
    "    Returns the dataframe.\n",
    "    \"\"\"\n",
    "    # text preprocessing\n",
    "    data['content'] = data['content'].apply(replace_mentions)\n",
    "    data['content'] = data['content'].apply(replace_hashtags)\n",
    "    # emojis ?\n",
    "    # concat tweets of same author ?\n",
    "    \n",
    "    return data"
   ]
  },
  {
   "cell_type": "markdown",
   "metadata": {},
   "source": [
    "# Constants"
   ]
  },
  {
   "cell_type": "code",
   "execution_count": 17,
   "metadata": {
    "ExecuteTime": {
     "end_time": "2019-10-01T18:07:48.986221Z",
     "start_time": "2019-10-01T18:07:48.981822Z"
    }
   },
   "outputs": [],
   "source": [
    "# define constants here..."
   ]
  },
  {
   "cell_type": "markdown",
   "metadata": {},
   "source": [
    "# Main"
   ]
  },
  {
   "cell_type": "code",
   "execution_count": 18,
   "metadata": {
    "ExecuteTime": {
     "end_time": "2019-10-01T18:08:00.295425Z",
     "start_time": "2019-10-01T18:07:49.643580Z"
    }
   },
   "outputs": [],
   "source": [
    "data = load_data()\n",
    "data = preprocess_data(data)"
   ]
  },
  {
   "cell_type": "code",
   "execution_count": null,
   "metadata": {},
   "outputs": [],
   "source": []
  }
 ],
 "metadata": {
  "kernelspec": {
   "display_name": "Python 3",
   "language": "python",
   "name": "python3"
  },
  "language_info": {
   "codemirror_mode": {
    "name": "ipython",
    "version": 3
   },
   "file_extension": ".py",
   "mimetype": "text/x-python",
   "name": "python",
   "nbconvert_exporter": "python",
   "pygments_lexer": "ipython3",
   "version": "3.7.4"
  },
  "toc": {
   "base_numbering": 1,
   "nav_menu": {},
   "number_sections": true,
   "sideBar": true,
   "skip_h1_title": false,
   "title_cell": "Table of Contents",
   "title_sidebar": "Contents",
   "toc_cell": false,
   "toc_position": {},
   "toc_section_display": true,
   "toc_window_display": false
  }
 },
 "nbformat": 4,
 "nbformat_minor": 2
}
