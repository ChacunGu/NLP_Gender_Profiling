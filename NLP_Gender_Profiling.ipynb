{
 "cells": [
  {
   "cell_type": "raw",
   "metadata": {},
   "source": [
    "MCS - BeNeFri\n",
    "Seminar of Natural Language Processing, Fall 2019\n",
    "Gender Profiling on tweets\n",
    "Authors: @chacungu, @fabienvorpe"
   ]
  },
  {
   "cell_type": "markdown",
   "metadata": {},
   "source": [
    "# Imports"
   ]
  },
  {
   "cell_type": "code",
   "execution_count": 1,
   "metadata": {
    "ExecuteTime": {
     "end_time": "2019-11-09T15:36:19.527028Z",
     "start_time": "2019-11-09T15:36:12.324329Z"
    }
   },
   "outputs": [],
   "source": [
    "from catboost import CatBoostClassifier\n",
    "import csv\n",
    "from imblearn.over_sampling import SMOTE\n",
    "import matplotlib as mpl\n",
    "import matplotlib.pyplot as plt\n",
    "from nltk.stem import PorterStemmer\n",
    "from nltk.tokenize import sent_tokenize, word_tokenize\n",
    "import numpy as np\n",
    "import os.path\n",
    "import pandas as pd\n",
    "import re\n",
    "#import shap\n",
    "from sklearn.feature_extraction.text import TfidfVectorizer\n",
    "from sklearn.manifold import TSNE\n",
    "from sklearn.metrics import accuracy_score, confusion_matrix, precision_score, recall_score\n",
    "from sklearn.model_selection import GridSearchCV, StratifiedShuffleSplit\n",
    "from sklearn.preprocessing import MaxAbsScaler, MinMaxScaler, RobustScaler, StandardScaler\n",
    "from sklearn.utils.multiclass import unique_labels\n",
    "import spacy\n",
    "import string\n",
    "import textstat\n",
    "import time\n",
    "from tqdm import tqdm\n",
    "from wordcloud import STOPWORDS, WordCloud"
   ]
  },
  {
   "cell_type": "markdown",
   "metadata": {},
   "source": [
    "## Tools Initialization"
   ]
  },
  {
   "cell_type": "code",
   "execution_count": 2,
   "metadata": {
    "ExecuteTime": {
     "end_time": "2019-11-09T15:36:20.169424Z",
     "start_time": "2019-11-09T15:36:19.527028Z"
    }
   },
   "outputs": [],
   "source": [
    "nlp = spacy.load('en_core_web_sm')\n",
    "porter_stemmer = PorterStemmer()"
   ]
  },
  {
   "cell_type": "markdown",
   "metadata": {},
   "source": [
    "# Data preprocessing"
   ]
  },
  {
   "cell_type": "code",
   "execution_count": 3,
   "metadata": {
    "ExecuteTime": {
     "end_time": "2019-11-09T15:36:20.182009Z",
     "start_time": "2019-11-09T15:36:20.169424Z"
    },
    "code_folding": [
     0
    ]
   },
   "outputs": [],
   "source": [
    "def load_data():\n",
    "    \"\"\"\n",
    "    Loads the data in a pandas' dataframe and group the tweets by author.\n",
    "    Returns the dataframe containing following columns : 'doc_id' (int), 'label' (int) and 'content' (str).\n",
    "    \"\"\"\n",
    "    data = pd.DataFrame()\n",
    "    data_files = ['./data/AMale.txt', './data/AFemale.txt']\n",
    "\n",
    "    for data_file in data_files:\n",
    "        data = data.append(pd.read_csv(data_file, sep=\"\\t\", header=None, encoding='latin-1', quoting=csv.QUOTE_NONE))\n",
    "\n",
    "    data = data.drop(1, axis='columns') # drop profile's column (human/bot)\n",
    "    data = data.rename(columns={0: 'doc_id', 2: 'label', 3: 'content'})\n",
    "\n",
    "    data['doc_id'] = data['doc_id'].apply(lambda x: int(x)) # ids should be integers\n",
    "    data['label'] = data['label'].apply(lambda gender: 0 if gender == 'M' else 1) # men:0, women:1\n",
    "    \n",
    "    # group tweets by author\n",
    "    data = data.groupby(['doc_id', 'label'])['content'].apply(lambda content_list : \" \".join(content_list)).reset_index(name='content')\n",
    "    \n",
    "    return data"
   ]
  },
  {
   "cell_type": "code",
   "execution_count": 4,
   "metadata": {
    "ExecuteTime": {
     "end_time": "2019-11-09T15:36:20.196004Z",
     "start_time": "2019-11-09T15:36:20.185000Z"
    },
    "code_folding": [
     0
    ]
   },
   "outputs": [],
   "source": [
    "def preprocess_data(data):\n",
    "    \"\"\"\n",
    "    Applies preprocessing methods on the given dataframe.\n",
    "    The dataframe must contain following columns :  'doc_id' (int), 'label' (int) and 'content' (str).\n",
    "    Returns the dataframe.\n",
    "    \"\"\"\n",
    "    # text preprocessing\n",
    "    data['content'] = data['content'].apply(lambda content: replace_hashtags(replace_mentions(content)))\n",
    "    \n",
    "    data['original_content'] = data['content'] # original content shouldn't be changed\n",
    "    \n",
    "    data['content'] = data['content'].apply(\n",
    "        lambda content: stem_sentence(\n",
    "            re.sub('\\s+', ' ', content # remove multiple whitespaces\n",
    "                #re.sub(r'\\b\\w{1,3}\\b', '', content # remove words of length <= 3\n",
    "                    .lower() # lower case\n",
    "                    .translate(content.maketrans('', '', string.punctuation)) # remove punctuation\n",
    "    ).strip()))\n",
    "    \n",
    "    return data"
   ]
  },
  {
   "cell_type": "code",
   "execution_count": 5,
   "metadata": {
    "ExecuteTime": {
     "end_time": "2019-11-09T15:36:20.204946Z",
     "start_time": "2019-11-09T15:36:20.198962Z"
    },
    "code_folding": [
     0
    ]
   },
   "outputs": [],
   "source": [
    "def stem_sentence(sentence):\n",
    "    \"\"\"\n",
    "    Uses an NLTK Porter stemmer to stem the given text.\n",
    "    Returns a string.\n",
    "    \"\"\"\n",
    "    return ' '.join([porter_stemmer.stem(word) for word in word_tokenize(sentence)])"
   ]
  },
  {
   "cell_type": "code",
   "execution_count": 6,
   "metadata": {
    "ExecuteTime": {
     "end_time": "2019-11-09T15:36:20.213921Z",
     "start_time": "2019-11-09T15:36:20.206941Z"
    },
    "code_folding": [
     0
    ]
   },
   "outputs": [],
   "source": [
    "def string_to_nparray_1d(string_array):\n",
    "    \"\"\"\n",
    "    Converts a list of floats written as a string to a numpy array of floats.\n",
    "    Example : '[1.1, 2.2]' -> [1.1, 2.2]\n",
    "    Returns a numpy array of floats.\n",
    "    \"\"\"\n",
    "    #return np.array([value for value in string_array.replace('[', '').replace(']', '').split(', ')]).astype(np.float)\n",
    "    return np.array([float(value) for value in string_array.replace('[', '').replace(']', '').replace(',', '').split()])"
   ]
  },
  {
   "cell_type": "code",
   "execution_count": 7,
   "metadata": {
    "ExecuteTime": {
     "end_time": "2019-11-09T15:36:20.222897Z",
     "start_time": "2019-11-09T15:36:20.215916Z"
    },
    "code_folding": [
     0
    ]
   },
   "outputs": [],
   "source": [
    "def string_to_nparray_2d(string_array):\n",
    "    \"\"\"\n",
    "    Converts a 2d array written as a string to a list of numpy arrays.\n",
    "    Example : '[[1.1, 2.2], [3.3, 4.4]]' -> [np.array([1.1, 2.2]), np.array([3.3, 4.4])]\n",
    "    Returns the list of numpy arrays.\n",
    "    \"\"\"\n",
    "    return np.array([string_to_nparray_1d(array) for array in string_array])"
   ]
  },
  {
   "cell_type": "code",
   "execution_count": 8,
   "metadata": {
    "ExecuteTime": {
     "end_time": "2019-11-09T15:36:20.237859Z",
     "start_time": "2019-11-09T15:36:20.225889Z"
    },
    "code_folding": [
     0
    ]
   },
   "outputs": [],
   "source": [
    "def merge_2d_lists_row_wise(l1, l2):\n",
    "    \"\"\"\n",
    "    Merges row wise two lists of same length.\n",
    "    Returns the resulting list.\n",
    "    \"\"\"\n",
    "    if len(l1) > 0 and len(l2) > 0:\n",
    "        #return [[*i, *j] for i, j in zip(l1, l2)]\n",
    "        return np.concatenate((np.array(l1), np.array(l2)), axis=1).tolist()\n",
    "    elif len(l1) > 0:\n",
    "        return l1\n",
    "    elif len(l2) > 0:\n",
    "        return l2\n",
    "    return []"
   ]
  },
  {
   "cell_type": "code",
   "execution_count": 9,
   "metadata": {
    "ExecuteTime": {
     "end_time": "2019-11-09T15:36:20.251820Z",
     "start_time": "2019-11-09T15:36:20.240850Z"
    },
    "code_folding": [
     0
    ]
   },
   "outputs": [],
   "source": [
    "def replace_mentions(text):\n",
    "    \"\"\"\n",
    "    Replaces twitter mentions in the given text by a contant tag.\n",
    "    Returns the clean text.\n",
    "    \"\"\"\n",
    "    MENTIONS_REPLACEMENT_TAG = \"mention\"\n",
    "    MENTIONS_REGEXS = [\n",
    "        r'(@ [\\w\\d-]+(( _)|(_ )|( _ )|_)+[\\w\\d-]+)', # something + _ + something\n",
    "        r'(@ [\\w\\d-]+( [\\d-]+))', # something + space + numbers\n",
    "        r'(@ [\\w\\d-]+)', # something\n",
    "        ] \n",
    "\n",
    "    matches = re.findall('|'.join([f'({regex})' for regex in MENTIONS_REGEXS]), text)\n",
    "    for tuple_matches in matches:\n",
    "        if isinstance(tuple_matches, tuple):\n",
    "            mention = [mention for mention in tuple_matches if len(mention) >= 3][0] # keep the first match which contains at least 3 characters\n",
    "        else:\n",
    "            mention = tuple_matches\n",
    "        text = text.replace(mention, MENTIONS_REPLACEMENT_TAG)\n",
    "    return text"
   ]
  },
  {
   "cell_type": "code",
   "execution_count": 10,
   "metadata": {
    "ExecuteTime": {
     "end_time": "2019-11-09T15:36:20.267777Z",
     "start_time": "2019-11-09T15:36:20.255809Z"
    },
    "code_folding": [
     0
    ]
   },
   "outputs": [],
   "source": [
    "def replace_hashtags(text):\n",
    "    \"\"\"\n",
    "    Replaces twitter hashtags in the given text by a contant tag.\n",
    "    Returns the clean text.\n",
    "    \"\"\"\n",
    "    HASHTAGS_REPLACEMENT_TAG = \"hashtag\"\n",
    "    HASHTAGS_REGEXS = [\n",
    "        r'(# [\\w\\d_-]+( \\d+)*)',\n",
    "        r'(# [\\w\\d_-]+)',\n",
    "        ] \n",
    "\n",
    "    matches = re.findall('|'.join([f'({regex})' for regex in HASHTAGS_REGEXS]), text)\n",
    "    for tuple_matches in matches:\n",
    "        if isinstance(tuple_matches, tuple):\n",
    "            hashtag = [hashtag for hashtag in tuple_matches if len(hashtag) >= 3][0] # keep the first match which contains at least 3 characters\n",
    "        else:\n",
    "            hashtag = tuple_matches\n",
    "        text = text.replace(hashtag, HASHTAGS_REPLACEMENT_TAG)\n",
    "    return text"
   ]
  },
  {
   "cell_type": "markdown",
   "metadata": {},
   "source": [
    "# Dataset statistics"
   ]
  },
  {
   "cell_type": "code",
   "execution_count": 11,
   "metadata": {
    "ExecuteTime": {
     "end_time": "2019-11-09T15:36:20.281740Z",
     "start_time": "2019-11-09T15:36:20.269777Z"
    },
    "code_folding": [
     0
    ]
   },
   "outputs": [],
   "source": [
    "def display_dataset_stats(data):\n",
    "    \"\"\"\n",
    "    Displays statistics for \n",
    "    - number of words (min/max/avg)\n",
    "    - number of characters (min/max/avg)\n",
    "    - number of documents\n",
    "    - number of documents written by a man/woman\n",
    "    \"\"\"\n",
    "    #feature_nb_word = (compute_dataframe_features(data, {'nb_words' : True}) if 'nb_words' not in data.columns else data)['nb_words']\n",
    "    #print(f'Number of words per document. Average : {feature_nb_word.mean()}, Min : {feature_nb_word.min()}, Max : {feature_nb_word.max()}')\n",
    "    \n",
    "    #feature_nb_characters = (compute_dataframe_features(data, {'nb_characters' : True}) if 'nb_characters' not in data.columns else data)['nb_characters']\n",
    "    #print(f'Number of characters per document. Average : {feature_nb_characters.mean()}, Min : {feature_nb_characters.min()}, Max : {feature_nb_characters.max()}')\n",
    "     \n",
    "    print(f'Number of documents written by a man : {len([x for x in data[\"label\"] if x == 0])}')\n",
    "    print(f'Number of documents written by a woman : {len([x for x in data[\"label\"] if x == 1])}')   "
   ]
  },
  {
   "cell_type": "markdown",
   "metadata": {},
   "source": [
    "# Features"
   ]
  },
  {
   "cell_type": "code",
   "execution_count": 12,
   "metadata": {
    "ExecuteTime": {
     "end_time": "2019-11-09T15:36:20.289719Z",
     "start_time": "2019-11-09T15:36:20.283734Z"
    },
    "code_folding": [
     0
    ]
   },
   "outputs": [],
   "source": [
    "def compute_feature_nb_characters(row):\n",
    "    \"\"\"\n",
    "    Computes the feature nb_character for the given row.\n",
    "    Return the feature and its length.\n",
    "    \"\"\"\n",
    "    return len(row['content']), 1"
   ]
  },
  {
   "cell_type": "code",
   "execution_count": 13,
   "metadata": {
    "ExecuteTime": {
     "end_time": "2019-11-09T15:36:20.300690Z",
     "start_time": "2019-11-09T15:36:20.291715Z"
    },
    "code_folding": [
     0
    ]
   },
   "outputs": [],
   "source": [
    "def compute_feature_nb_words(row):\n",
    "    \"\"\"\n",
    "    Computes the feature nb_words for the given row.\n",
    "    Return the feature and its length.\n",
    "    \"\"\"\n",
    "    doc = nlp(row['content'])\n",
    "    return len(doc), 1"
   ]
  },
  {
   "cell_type": "code",
   "execution_count": 14,
   "metadata": {
    "ExecuteTime": {
     "end_time": "2019-11-09T15:36:20.314651Z",
     "start_time": "2019-11-09T15:36:20.303683Z"
    },
    "code_folding": [
     0
    ]
   },
   "outputs": [],
   "source": [
    "def compute_feature_nb_nouns(row):\n",
    "    \"\"\"\n",
    "    Computes the feature nb_nouns for the given row.\n",
    "    Return the feature and its length.\n",
    "    \"\"\"\n",
    "    doc = nlp(row['content'])\n",
    "    return len([token for token in doc if token.pos_ == \"NOUN\"]), 1"
   ]
  },
  {
   "cell_type": "code",
   "execution_count": 15,
   "metadata": {
    "ExecuteTime": {
     "end_time": "2019-11-09T15:36:20.323629Z",
     "start_time": "2019-11-09T15:36:20.316646Z"
    },
    "code_folding": [
     0
    ]
   },
   "outputs": [],
   "source": [
    "def compute_feature_nb_pronouns(row):\n",
    "    \"\"\"\n",
    "    Computes the feature nb_pronouns for the given row.\n",
    "    Return the feature and its length.\n",
    "    \"\"\"\n",
    "    doc = nlp(row['content'])\n",
    "    return len([token for token in doc if token.pos_ == \"PRON\"]), 1"
   ]
  },
  {
   "cell_type": "code",
   "execution_count": 16,
   "metadata": {
    "ExecuteTime": {
     "end_time": "2019-11-09T15:36:20.334599Z",
     "start_time": "2019-11-09T15:36:20.325623Z"
    },
    "code_folding": [
     0
    ]
   },
   "outputs": [],
   "source": [
    "def compute_feature_nb_digits(row):\n",
    "    \"\"\"\n",
    "    Computes the feature nb_digits for the given row.\n",
    "    Return the feature and its length.\n",
    "    \"\"\"\n",
    "    return sum(c.isdigit() for c in row['content']), 1"
   ]
  },
  {
   "cell_type": "code",
   "execution_count": 17,
   "metadata": {
    "ExecuteTime": {
     "end_time": "2019-11-09T15:36:20.345569Z",
     "start_time": "2019-11-09T15:36:20.337591Z"
    },
    "code_folding": [
     0
    ]
   },
   "outputs": [],
   "source": [
    "def compute_feature_flesch_readibility(row):\n",
    "    \"\"\"\n",
    "    Computes the feature flesch_readibility for the given row.\n",
    "    Return the feature and its length.\n",
    "    \"\"\"\n",
    "    return textstat.flesch_reading_ease(row['content']), 1"
   ]
  },
  {
   "cell_type": "code",
   "execution_count": 18,
   "metadata": {
    "ExecuteTime": {
     "end_time": "2019-11-09T15:36:20.353549Z",
     "start_time": "2019-11-09T15:36:20.347565Z"
    },
    "code_folding": [
     0
    ]
   },
   "outputs": [],
   "source": [
    "def compute_feature_nb_mentions(row):\n",
    "    \"\"\"\n",
    "    Computes the feature nb_mentions for the given row.\n",
    "    Return the feature and its length.\n",
    "    \"\"\"\n",
    "    return row['content'].count('mention'), 1"
   ]
  },
  {
   "cell_type": "code",
   "execution_count": 19,
   "metadata": {
    "ExecuteTime": {
     "end_time": "2019-11-09T15:36:20.364519Z",
     "start_time": "2019-11-09T15:36:20.355543Z"
    },
    "code_folding": [
     0
    ]
   },
   "outputs": [],
   "source": [
    "def compute_feature_nb_hashtags(row):\n",
    "    \"\"\"\n",
    "    Computes the feature nb_hashtags for the given row.\n",
    "    Return the feature and its length.\n",
    "    \"\"\"\n",
    "    return row['content'].count('hashtag'), 1"
   ]
  },
  {
   "cell_type": "code",
   "execution_count": 20,
   "metadata": {
    "ExecuteTime": {
     "end_time": "2019-11-09T15:36:20.372499Z",
     "start_time": "2019-11-09T15:36:20.366514Z"
    },
    "code_folding": [
     0
    ]
   },
   "outputs": [],
   "source": [
    "def compute_feature_nb_urls(row):\n",
    "    \"\"\"\n",
    "    Computes the feature nb_urls for the given row.\n",
    "    Return the feature and its length.\n",
    "    \"\"\"\n",
    "    return row['content'].count('urllink'), 1"
   ]
  },
  {
   "cell_type": "code",
   "execution_count": 65,
   "metadata": {
    "ExecuteTime": {
     "end_time": "2019-11-09T17:09:28.258240Z",
     "start_time": "2019-11-09T17:09:28.250262Z"
    },
    "code_folding": [
     0
    ]
   },
   "outputs": [],
   "source": [
    "def compute_feature_nb_rts(row):\n",
    "    \"\"\"\n",
    "    Computes the feature nb_rts for the given row.\n",
    "    Return the feature and its length.\n",
    "    \"\"\"\n",
    "    return row['content'].count('rt'), 1"
   ]
  },
  {
   "cell_type": "code",
   "execution_count": 48,
   "metadata": {
    "ExecuteTime": {
     "end_time": "2019-11-09T16:54:04.801333Z",
     "start_time": "2019-11-09T16:54:04.795351Z"
    },
    "code_folding": [
     0
    ]
   },
   "outputs": [],
   "source": [
    "def compute_feature_nb_big_words(row):\n",
    "    \"\"\"\n",
    "    Computes the feature nb_big_words for the given row.\n",
    "    Return the feature and its length.\n",
    "    \"\"\"\n",
    "    simple_words_regex = r'\\w+'\n",
    "    long_words_regex = r'^[a-z-]{6,}$'\n",
    "    long_words = [re.search(long_words_regex, word).group(0) \n",
    "                    for word in re.findall(simple_words_regex, row['content']) \n",
    "                    if re.search(long_words_regex, word)]\n",
    "    return len(long_words), 1"
   ]
  },
  {
   "cell_type": "code",
   "execution_count": 21,
   "metadata": {
    "ExecuteTime": {
     "end_time": "2019-11-09T15:36:20.384465Z",
     "start_time": "2019-11-09T15:36:20.374492Z"
    },
    "code_folding": [
     0
    ]
   },
   "outputs": [],
   "source": [
    "def compute_feature_tfidf(training_data, test_data):\n",
    "    \"\"\"\n",
    "    Computes the feature tfidf for the given train and test data..\n",
    "    Return a list of feature's vectors and the length of a vector.\n",
    "    \"\"\"\n",
    "    vectorizer = TfidfVectorizer(use_idf=True, ngram_range=(1,2), stop_words='english', min_df=5)\n",
    "    X_train = vectorizer.fit_transform(training_data['content'].tolist()).toarray()\n",
    "    X_test = vectorizer.transform(test_data['content'].tolist()).toarray()\n",
    "    \n",
    "    features = {index: vector for index, vector in list(zip(training_data.index, X_train)) + list(zip(test_data.index, X_test))}\n",
    "    features = [vector for _, vector in sorted(features.items())]\n",
    "    \n",
    "    return features, len(features[0])"
   ]
  },
  {
   "cell_type": "code",
   "execution_count": 66,
   "metadata": {
    "ExecuteTime": {
     "end_time": "2019-11-09T17:09:30.480973Z",
     "start_time": "2019-11-09T17:09:30.453047Z"
    },
    "code_folding": []
   },
   "outputs": [],
   "source": [
    "def compute_row_features(row, features_dict):\n",
    "    \"\"\"\n",
    "    Computes the features specified in the given dictionary for the given row.\n",
    "    Returns a list of new features and a list of their respective length.\n",
    "    \"\"\"\n",
    "    features = []\n",
    "    features_length = []\n",
    "    for feature_name, is_feature_used in features_dict.items():\n",
    "        if is_feature_used:\n",
    "            if feature_name == 'nb_characters':\n",
    "                new_feature, new_feature_length = compute_feature_nb_characters(row)\n",
    "            elif feature_name == 'nb_words':\n",
    "                new_feature, new_feature_length = compute_feature_nb_words(row)\n",
    "            elif feature_name == 'nb_nouns':\n",
    "                new_feature, new_feature_length = compute_feature_nb_nouns(row)\n",
    "            elif feature_name == 'nb_pronouns':\n",
    "                new_feature, new_feature_length = compute_feature_nb_pronouns(row)\n",
    "            elif feature_name == 'nb_digits':\n",
    "                new_feature, new_feature_length = compute_feature_nb_digits(row)\n",
    "            elif feature_name == 'flesch_readibility':\n",
    "                new_feature, new_feature_length = compute_feature_flesch_readibility(row)\n",
    "            elif feature_name == 'nb_mentions':\n",
    "                new_feature, new_feature_length = compute_feature_nb_mentions(row)\n",
    "            elif feature_name == 'nb_hashtags':\n",
    "                new_feature, new_feature_length = compute_feature_nb_hashtags(row)\n",
    "            elif feature_name == 'nb_urls':\n",
    "                new_feature, new_feature_length = compute_feature_nb_urls(row)\n",
    "            elif feature_name == 'nb_rts':\n",
    "                new_feature, new_feature_length = compute_feature_nb_rts(row)\n",
    "            elif feature_name == 'nb_big_words':\n",
    "                new_feature, new_feature_length = compute_feature_nb_big_words(row)\n",
    "                \n",
    "            else:\n",
    "                continue\n",
    "            features.append(new_feature)\n",
    "            features_length.append(new_feature_length)\n",
    "    return features, features_length"
   ]
  },
  {
   "cell_type": "code",
   "execution_count": 23,
   "metadata": {
    "ExecuteTime": {
     "end_time": "2019-11-09T15:36:20.416381Z",
     "start_time": "2019-11-09T15:36:20.406408Z"
    },
    "code_folding": [
     0
    ]
   },
   "outputs": [],
   "source": [
    "def compute_complex_features(data, features_dict, train_indices, test_indices):\n",
    "    \"\"\"\n",
    "    Computes the complex features specified in the given dictionary for the whole dataframe.\n",
    "    Returns a 2d list containing the new features and a list of their respective length.\n",
    "    \"\"\"    \n",
    "    # identify train and test data\n",
    "    training_data = data.iloc[train_indices, :]\n",
    "    test_data = data.iloc[test_indices, :]\n",
    "    \n",
    "    # for each complex feature\n",
    "    features = []\n",
    "    features_length = []\n",
    "    for feature_name, is_feature_used in features_dict.items():\n",
    "        if is_feature_used: \n",
    "            if feature_name == 'tfidf':\n",
    "                new_feature, new_feature_length = compute_feature_tfidf(training_data, test_data)\n",
    "            else:\n",
    "                continue\n",
    "            \n",
    "            # append the new vectors to the other features (row by row)\n",
    "            features = merge_2d_lists_row_wise(features, new_feature)\n",
    "            features_length.append(new_feature_length)\n",
    "    return features, features_length"
   ]
  },
  {
   "cell_type": "code",
   "execution_count": 24,
   "metadata": {
    "ExecuteTime": {
     "end_time": "2019-11-09T15:36:20.431340Z",
     "start_time": "2019-11-09T15:36:20.418374Z"
    },
    "code_folding": [
     0
    ]
   },
   "outputs": [],
   "source": [
    "def compute_dataframe_features(data, features_dict, train_indices, test_indices, STATIC_BASIC_FEATURES_LIST, STATIC_COMPLEX_FEATURES_LIST):\n",
    "    \"\"\"\n",
    "    Computes the features specified in the given dictionary for the whole dataframe.\n",
    "    Returns the dataframe containing the computed features.\n",
    "    \"\"\"\n",
    "    all_new_features = []\n",
    "    features_length, complex_features_length = [], []\n",
    "    basic_features_dict = set(STATIC_BASIC_FEATURES_LIST).intersection(set(features_dict.keys()))\n",
    "    basic_features_dict = {feature_name: features_dict[feature_name] for feature_name in basic_features_dict}\n",
    "    complex_features_dict = set(STATIC_COMPLEX_FEATURES_LIST).intersection(set(features_dict.keys()))\n",
    "    complex_features_dict = {feature_name: features_dict[feature_name] for feature_name in complex_features_dict}\n",
    "\n",
    "    # compute basic features (row by row)\n",
    "    for i, row in data.iterrows():\n",
    "        computed_features, features_length = compute_row_features(row, basic_features_dict)\n",
    "        all_new_features.append(computed_features)\n",
    "    \n",
    "    # compute complex features (for the whole dataframe)\n",
    "    complex_computed_features, complex_features_length = compute_complex_features(data, complex_features_dict, train_indices, test_indices)\n",
    "    \n",
    "    # merge basic features and complex features\n",
    "    all_new_features = merge_2d_lists_row_wise(all_new_features, complex_computed_features)\n",
    "    features_length = features_length + complex_features_length\n",
    "    \n",
    "    # save features in the dataframe\n",
    "    if 'features' in data:\n",
    "        previous_features = string_to_nparray_2d(data['features'].tolist()).tolist() if isinstance(data['features'][0], str) else data['features'].tolist()\n",
    "        data['features'] = merge_2d_lists_row_wise(previous_features, all_new_features)\n",
    "    else:\n",
    "        data['features'] = all_new_features\n",
    "    \n",
    "    # create each feature's own column in the dataframe\n",
    "    all_new_features = np.swapaxes(np.array(all_new_features), 0, 1)\n",
    "    i = 0\n",
    "    for feature_name, is_feature_used in list(basic_features_dict.items()) + list(complex_features_dict.items()):\n",
    "        if is_feature_used and feature_name not in data: # if feature is used and not already in the dataframe: add its column\n",
    "            prev = sum(features_length[:i])\n",
    "            data[feature_name] = list(zip(*all_new_features[prev : prev+features_length[i], ::]))\n",
    "            i += 1\n",
    "    return data"
   ]
  },
  {
   "cell_type": "code",
   "execution_count": 25,
   "metadata": {
    "ExecuteTime": {
     "end_time": "2019-11-09T15:36:20.444305Z",
     "start_time": "2019-11-09T15:36:20.433336Z"
    },
    "code_folding": [
     0
    ]
   },
   "outputs": [],
   "source": [
    "def compute_features(data, features, train_indices, test_indices, scaler, STATIC_BASIC_FEATURES_LIST, STATIC_COMPLEX_FEATURES_LIST):\n",
    "    \"\"\"\n",
    "    Computes the features listed in the 'features' dictionary for the given dataframe. \n",
    "    Scales the resulting vectors if a scaler has been specified.\n",
    "    Returns the dataframe, X_train, y_train, X_test, y_test\n",
    "    \"\"\"\n",
    "    data = compute_dataframe_features(data, features, train_indices, test_indices, STATIC_BASIC_FEATURES_LIST, STATIC_COMPLEX_FEATURES_LIST)\n",
    "    \n",
    "    X_train = np.array(data.iloc[train_indices, :]['features'].tolist())\n",
    "    y_train = np.array(data.iloc[train_indices, :]['label'].tolist())\n",
    "    X_test = np.array(data.iloc[test_indices, :]['features'].tolist())\n",
    "    y_test = np.array(data.iloc[test_indices, :]['label'].tolist())\n",
    "    \n",
    "    # scale data\n",
    "    if scaler is not None:\n",
    "        X_train, X_test = scale_data(scaler, X_train, X_test)\n",
    "        \n",
    "        scaled_features_col = {index: vector for index, vector in list(zip(train_indices, X_train)) + list(zip(test_indices, X_test))}\n",
    "        scaled_features_col = [vector for _, vector in sorted(scaled_features_col.items())]\n",
    "        data = data.assign(scaled_features=pd.Series(scaled_features_col))\n",
    "        \n",
    "    return data, X_train, y_train, X_test, y_test"
   ]
  },
  {
   "cell_type": "code",
   "execution_count": 26,
   "metadata": {
    "ExecuteTime": {
     "end_time": "2019-11-09T15:36:20.453282Z",
     "start_time": "2019-11-09T15:36:20.446301Z"
    },
    "code_folding": [
     0
    ]
   },
   "outputs": [],
   "source": [
    "def scale_data(scaler, X_train, X_test):\n",
    "    \"\"\"\n",
    "    Uses a Scikit-Learn scaler to scale the data.\n",
    "    Returns the scaled X_train and X_test.\n",
    "    \"\"\"\n",
    "    scaler = scaler()\n",
    "    X_train = scaler.fit_transform(X_train)\n",
    "    X_test = scaler.transform(X_test)\n",
    "    return X_train, X_test"
   ]
  },
  {
   "cell_type": "markdown",
   "metadata": {},
   "source": [
    "# Classification"
   ]
  },
  {
   "cell_type": "code",
   "execution_count": 27,
   "metadata": {
    "ExecuteTime": {
     "end_time": "2019-11-09T15:36:20.465250Z",
     "start_time": "2019-11-09T15:36:20.455275Z"
    },
    "code_folding": [
     0
    ]
   },
   "outputs": [],
   "source": [
    "def train_model(classifier, X_train, y_train, X_test, y_test, params, confusion_matrix=True):\n",
    "    \"\"\"\n",
    "    Initializes an instance of the given classification model with its parameters.\n",
    "    Trains and evaluates the classifier before returning it with the classification scores.\n",
    "    \"\"\"\n",
    "    model = classifier(**params)\n",
    "    model.fit(X_train, y_train)\n",
    "    y_pred = model.predict(X_test)\n",
    "    scores = [accuracy_score(y_test, y_pred), \n",
    "              precision_score(y_test, y_pred, average=None), \n",
    "              recall_score(y_test, y_pred, average=None)]\n",
    "    if confusion_matrix:\n",
    "        plot_confusion_matrix(y_test, y_pred, np.array(['Man', 'Woman']), normalize=True)\n",
    "    return model, scores"
   ]
  },
  {
   "cell_type": "code",
   "execution_count": 28,
   "metadata": {
    "ExecuteTime": {
     "end_time": "2019-11-09T15:36:20.487190Z",
     "start_time": "2019-11-09T15:36:20.468242Z"
    },
    "code_folding": [
     1
    ]
   },
   "outputs": [],
   "source": [
    "# Source: https://scikit-learn.org/stable/auto_examples/model_selection/plot_confusion_matrix.html\n",
    "def plot_confusion_matrix(y_true, y_pred, classes, normalize=False, title=None, cmap=plt.cm.Blues):\n",
    "    \"\"\"\n",
    "    This function prints and plots the confusion matrix.\n",
    "    Normalization can be applied by setting `normalize=True`.\n",
    "    \"\"\"\n",
    "    if not title:\n",
    "        if normalize:\n",
    "            title = 'Normalized confusion matrix'\n",
    "        else:\n",
    "            title = 'Confusion matrix, without normalization'\n",
    "\n",
    "    # Compute confusion matrix\n",
    "    cm = confusion_matrix(y_true, y_pred)\n",
    "    # Only use the labels that appear in the data\n",
    "    classes = classes[unique_labels(y_true, y_pred)]\n",
    "    if normalize:\n",
    "        cm = cm.astype('float') / cm.sum(axis=1)[:, np.newaxis]\n",
    "\n",
    "    fig, ax = plt.subplots()\n",
    "    im = ax.imshow(cm, interpolation='nearest', cmap=cmap)\n",
    "    ax.figure.colorbar(im, ax=ax)\n",
    "    # We want to show all ticks...\n",
    "    ax.set(xticks=np.arange(cm.shape[1]),\n",
    "           yticks=np.arange(cm.shape[0]),\n",
    "           # ... and label them with the respective list entries\n",
    "           xticklabels=classes, yticklabels=classes,\n",
    "           title=title,\n",
    "           ylabel='True label',\n",
    "           xlabel='Predicted label')\n",
    "\n",
    "    # Rotate the tick labels and set their alignment.\n",
    "    plt.setp(ax.get_xticklabels(), rotation=45, ha=\"right\",\n",
    "             rotation_mode=\"anchor\")\n",
    "\n",
    "    # Loop over data dimensions and create text annotations.\n",
    "    fmt = '.2f' if normalize else 'd'\n",
    "    thresh = cm.max() / 2.\n",
    "    for i in range(cm.shape[0]):\n",
    "        for j in range(cm.shape[1]):\n",
    "            ax.text(j, i, format(cm[i, j], fmt),\n",
    "                    ha=\"center\", va=\"center\",\n",
    "                    color=\"white\" if cm[i, j] > thresh else \"black\")\n",
    "    fig.tight_layout()\n",
    "    return ax"
   ]
  },
  {
   "cell_type": "markdown",
   "metadata": {
    "ExecuteTime": {
     "end_time": "2019-10-03T14:29:25.722113Z",
     "start_time": "2019-10-03T14:29:25.718123Z"
    }
   },
   "source": [
    "# Data visualization"
   ]
  },
  {
   "cell_type": "code",
   "execution_count": 29,
   "metadata": {
    "ExecuteTime": {
     "end_time": "2019-11-09T15:36:20.504145Z",
     "start_time": "2019-11-09T15:36:20.489185Z"
    },
    "code_folding": [
     0
    ]
   },
   "outputs": [],
   "source": [
    "def plot_data(X_train, y_train, X_test, y_test):\n",
    "    \"\"\"\n",
    "    Uses t-SNE to plot an approximation of the data projected in 2d.\n",
    "    \"\"\"\n",
    "    X_embedded = TSNE(n_components=2).fit_transform(np.concatenate((X_train, X_test)))\n",
    "    \n",
    "    category_to_color = {0: 'blue', 1: 'magenta'}\n",
    "    category_to_label_train = {0: 'Man (training set)', 1: 'Woman (training set)'}\n",
    "    category_to_label_test = {0: 'Man (test set)', 1: 'Woman (test set)'}\n",
    "    \n",
    "    plt.figure(figsize=(10,10))\n",
    "    for category in category_to_color.keys():\n",
    "        plt_x_train = [X_embedded[i,0] for i, cat in enumerate(y_train) if cat == category]\n",
    "        plt_y_train = [X_embedded[i,1] for i, cat in enumerate(y_train) if cat == category]\n",
    "        \n",
    "        offset_train = len(X_train)\n",
    "        plt_x_test = [X_embedded[offset_train+i,0] for i, cat in enumerate(y_test) if cat == category]\n",
    "        plt_y_test = [X_embedded[offset_train+i,1] for i, cat in enumerate(y_test) if cat == category]\n",
    "        \n",
    "        plt.scatter(plt_x_train, plt_y_train, marker='.', color=category_to_color[category], label=category_to_label_train[category], alpha=0.6)\n",
    "        plt.scatter(plt_x_test, plt_y_test, marker='x', color=category_to_color[category], label=category_to_label_test[category], alpha=0.6)\n",
    "        plt.legend(loc='best')\n",
    "    plt.title('Corpus entries\\' visualization')\n",
    "    plt.show()"
   ]
  },
  {
   "cell_type": "code",
   "execution_count": 68,
   "metadata": {
    "ExecuteTime": {
     "end_time": "2019-11-09T17:09:57.891730Z",
     "start_time": "2019-11-09T17:09:57.875773Z"
    },
    "code_folding": [
     0
    ]
   },
   "outputs": [],
   "source": [
    "def plot_wordcloud(text, colormap, collocations=False):\n",
    "    \"\"\"\n",
    "    Plots a wordcloud for the given text.\n",
    "    \"\"\"\n",
    "    stopwords = set(STOPWORDS)\n",
    "    stopwords.update(['hashtag', 'mention', 'urllink', 'rt'])\n",
    "    wordcloud = WordCloud(stopwords=stopwords, collocations=collocations, \n",
    "                          background_color=\"white\", colormap=colormap, \n",
    "                          width=1920, height=1080)\n",
    "    wordcloud = wordcloud.generate(text)\n",
    "    plt.figure(num=None, figsize=(9, 5), dpi=80, facecolor='w', edgecolor='k')\n",
    "    plt.imshow(wordcloud, interpolation='bilinear', aspect='auto')\n",
    "    plt.axis(\"off\")\n",
    "    plt.show()"
   ]
  },
  {
   "cell_type": "markdown",
   "metadata": {},
   "source": [
    "# Constants"
   ]
  },
  {
   "cell_type": "code",
   "execution_count": 70,
   "metadata": {
    "ExecuteTime": {
     "end_time": "2019-11-09T17:10:12.595290Z",
     "start_time": "2019-11-09T17:10:12.569398Z"
    },
    "code_folding": [
     36,
     45,
     59
    ]
   },
   "outputs": [],
   "source": [
    "# define constants here...\n",
    "\n",
    "# data\n",
    "LOAD_DATA_FROM_CSV = True\n",
    "RECOMPUTE_FEATURES = True\n",
    "SAVE_AFTER_RECOMPUTING_FEATURES = False\n",
    "DATA_CSV_FILE = './data/processed_dataset_new_preprocessing_notfidf_35_2.csv'\n",
    "DATA_CSV_STATIC_COLUMNS = ['doc_id', 'label', 'content', 'original_content', 'train_entry', 'features']\n",
    "\n",
    "# features\n",
    "FEATURES = {\n",
    "    'nb_characters':      True, #\n",
    "    'nb_words':           True, #\n",
    "    'nb_nouns':           True, #\n",
    "    'nb_pronouns':        True, #\n",
    "    'nb_digits':          True, #\n",
    "    'flesch_readibility': True, #\n",
    "    \n",
    "    'nb_emojis':          False, #\n",
    "    'nb_emojis_per_cat':  False, #\n",
    "    'nb_lexical_words':   False,\n",
    "    \n",
    "    'nb_mentions':        True,\n",
    "    'nb_hashtags':        True,\n",
    "    'nb_urls':            True,\n",
    "    'nb_rts':             True,\n",
    "    'nb_big_words':       True,\n",
    "    \n",
    "    'tfidf':              False,\n",
    "}\n",
    "\n",
    "# models\n",
    "CLASSIFIER = CatBoostClassifier # [CatBoostClassifier]\n",
    "SCALER = StandardScaler # [None, StandardScaler, MinMaxScaler, MaxAbsScaler, RobustScaler]\n",
    "\n",
    "# models' parameters\n",
    "PARAMS = {\n",
    "    CatBoostClassifier: {\n",
    "        'iterations':200, \n",
    "        'depth':6, \n",
    "        'learning_rate':0.2, \n",
    "        'loss_function':'CrossEntropy', \n",
    "        'custom_metric':['Accuracy', 'Recall', 'Precision'], \n",
    "        'verbose':False},\n",
    "}\n",
    "GRIDSEARCH_PARAMS_RANGE = {\n",
    "    CatBoostClassifier: {\n",
    "        'loss_function': ['Logloss', 'CrossEntropy'],\n",
    "        'iterations': [250,100,500,1000],\n",
    "        'depth': [3,1,2,6,4,5,7,8,9,10],\n",
    "        'learning_rate': [0.03,0.001,0.01,0.1,0.2,0.3], \n",
    "    }\n",
    "}\n",
    "\n",
    "# training\n",
    "GRIDSEARCH_NB_CV_SPLITS = 2\n",
    "TEST_SIZE = 0.35\n",
    "\n",
    "# ---- constants' validity check\n",
    "STATIC_BASIC_FEATURES_LIST = [\n",
    "    'nb_characters', 'nb_words', 'nb_nouns', 'nb_pronouns', 'nb_digits', 'nb_mentions', 'nb_hashtags', 'nb_urls', 'nb_rts', \n",
    "    'nb_emojis', 'nb_emojis_per_cat', 'nb_big_words', 'nb_lexical_words', 'flesch_readibility']\n",
    "STATIC_COMPLEX_FEATURES_LIST = ['tfidf']\n",
    "assert all([feature in STATIC_BASIC_FEATURES_LIST+STATIC_COMPLEX_FEATURES_LIST for feature in FEATURES.keys()])\n",
    "assert GRIDSEARCH_NB_CV_SPLITS > 1\n",
    "assert CLASSIFIER in [CatBoostClassifier]\n",
    "assert SCALER in [None, StandardScaler, MinMaxScaler, MaxAbsScaler, RobustScaler]\n",
    "assert TEST_SIZE > 0.0 and TEST_SIZE < 1.0"
   ]
  },
  {
   "cell_type": "markdown",
   "metadata": {},
   "source": [
    "# Main"
   ]
  },
  {
   "cell_type": "code",
   "execution_count": 80,
   "metadata": {
    "ExecuteTime": {
     "end_time": "2019-11-09T17:11:53.543853Z",
     "start_time": "2019-11-09T17:11:53.002079Z"
    },
    "code_folding": [
     1,
     11
    ]
   },
   "outputs": [
    {
     "name": "stdout",
     "output_type": "stream",
     "text": [
      "Dataset loaded!\n"
     ]
    }
   ],
   "source": [
    "# load the data\n",
    "if LOAD_DATA_FROM_CSV and os.path.isfile(DATA_CSV_FILE):\n",
    "    data = pd.read_csv(DATA_CSV_FILE, sep='\\t', index_col=False)\n",
    "    features_column = 'scaled_features' if 'scaled_features' in data else 'features'\n",
    "    train_entries = data.loc[data['train_entry'] == 1]\n",
    "    test_entries = data.loc[data['train_entry'] == 0]\n",
    "    X_train = string_to_nparray_2d(train_entries[features_column].tolist())\n",
    "    y_train = train_entries['label'].tolist()\n",
    "    X_test = string_to_nparray_2d(test_entries[features_column].tolist())\n",
    "    y_test = test_entries['label'].tolist()\n",
    "    \n",
    "else:\n",
    "    if LOAD_DATA_FROM_CSV:\n",
    "        print(f'Can\\'t load data from CSV. File does not exist: {DATA_CSV_FILE}\\nCreating dataset...')\n",
    "    data = load_data()\n",
    "    data = preprocess_data(data)\n",
    "    \n",
    "    # split train/test sets\n",
    "    train_indices, test_indices = next(StratifiedShuffleSplit(n_splits=1, test_size=TEST_SIZE).split(data, np.array(data['label'].tolist())))\n",
    "    data['train_entry'] = [1 if i in train_indices else 0 for i in data.index] # train:1, test:0\n",
    "\n",
    "    # compute features\n",
    "    data, X_train, y_train, X_test, y_test = compute_features(data, FEATURES, train_indices, test_indices, SCALER, STATIC_BASIC_FEATURES_LIST, STATIC_COMPLEX_FEATURES_LIST)\n",
    "        \n",
    "    # export the dataset as CSV\n",
    "    data.to_csv(DATA_CSV_FILE, sep='\\t', index=False)\n",
    "print('Dataset loaded!')"
   ]
  },
  {
   "cell_type": "code",
   "execution_count": 81,
   "metadata": {
    "ExecuteTime": {
     "end_time": "2019-11-09T17:12:01.777227Z",
     "start_time": "2019-11-09T17:11:53.643586Z"
    },
    "code_folding": [],
    "scrolled": false
   },
   "outputs": [
    {
     "name": "stdout",
     "output_type": "stream",
     "text": [
      "New features computed and dataset saved: ['nb_mentions', 'nb_hashtags', 'nb_urls', 'nb_rts', 'nb_big_words'].\n"
     ]
    }
   ],
   "source": [
    "# compute more features\n",
    "if LOAD_DATA_FROM_CSV and os.path.isfile(DATA_CSV_FILE) and RECOMPUTE_FEATURES:\n",
    "    precomputed_features_name = [col_name for col_name in data.columns if col_name not in DATA_CSV_STATIC_COLUMNS]\n",
    "    features_to_compute = {feature_name: is_feature_used for feature_name, is_feature_used in FEATURES.items() \n",
    "                           if feature_name not in precomputed_features_name and is_feature_used}\n",
    "\n",
    "    train_indices = [i for i in data.index if data.iloc[i, :]['train_entry'] == 1]\n",
    "    test_indices = [i for i in data.index if data.iloc[i, :]['train_entry'] == 0]\n",
    "    data, X_train, y_train, X_test, y_test = compute_features(data, features_to_compute, train_indices, test_indices, SCALER, STATIC_BASIC_FEATURES_LIST, STATIC_COMPLEX_FEATURES_LIST)\n",
    "    \n",
    "    # export the dataset as CSV\n",
    "    if SAVE_AFTER_RECOMPUTING_FEATURES:\n",
    "        data.to_csv(DATA_CSV_FILE, sep='\\t', index=False)\n",
    "    \n",
    "    print(f'New features computed and dataset saved: {list(features_to_compute.keys())}.')"
   ]
  },
  {
   "cell_type": "code",
   "execution_count": 82,
   "metadata": {
    "ExecuteTime": {
     "end_time": "2019-11-09T17:12:01.845045Z",
     "start_time": "2019-11-09T17:12:01.779223Z"
    },
    "code_folding": [
     0
    ],
    "scrolled": true
   },
   "outputs": [
    {
     "name": "stdout",
     "output_type": "stream",
     "text": [
      "Number of documents written by a man : 1030\n",
      "Number of documents written by a woman : 1030\n",
      "Shape of the dataframe : (2060, 18)\n",
      "Size of the features' vectors : 11\n"
     ]
    },
    {
     "data": {
      "text/html": [
       "<div>\n",
       "<style scoped>\n",
       "    .dataframe tbody tr th:only-of-type {\n",
       "        vertical-align: middle;\n",
       "    }\n",
       "\n",
       "    .dataframe tbody tr th {\n",
       "        vertical-align: top;\n",
       "    }\n",
       "\n",
       "    .dataframe thead th {\n",
       "        text-align: right;\n",
       "    }\n",
       "</style>\n",
       "<table border=\"1\" class=\"dataframe\">\n",
       "  <thead>\n",
       "    <tr style=\"text-align: right;\">\n",
       "      <th></th>\n",
       "      <th>doc_id</th>\n",
       "      <th>label</th>\n",
       "      <th>content</th>\n",
       "      <th>original_content</th>\n",
       "      <th>train_entry</th>\n",
       "      <th>features</th>\n",
       "      <th>nb_pronouns</th>\n",
       "      <th>nb_characters</th>\n",
       "      <th>nb_digits</th>\n",
       "      <th>flesch_readibility</th>\n",
       "      <th>nb_words</th>\n",
       "      <th>nb_nouns</th>\n",
       "      <th>scaled_features</th>\n",
       "      <th>nb_hashtags</th>\n",
       "      <th>nb_rts</th>\n",
       "      <th>nb_big_words</th>\n",
       "      <th>nb_mentions</th>\n",
       "      <th>nb_urls</th>\n",
       "    </tr>\n",
       "  </thead>\n",
       "  <tbody>\n",
       "    <tr>\n",
       "      <td>0</td>\n",
       "      <td>0</td>\n",
       "      <td>1</td>\n",
       "      <td>alex is too nice for love island rt mention te...</td>\n",
       "      <td>alex is too nice for love island :(  rt mentio...</td>\n",
       "      <td>1</td>\n",
       "      <td>[76.0, 5909.0, 28.0, -1123.86, 1220.0, 398.0, ...</td>\n",
       "      <td>(76.0,)</td>\n",
       "      <td>(5909.0,)</td>\n",
       "      <td>(28.0,)</td>\n",
       "      <td>(-1123.86,)</td>\n",
       "      <td>(1220.0,)</td>\n",
       "      <td>(398.0,)</td>\n",
       "      <td>[-0.5397647056339251, -1.2569488244290796, -0....</td>\n",
       "      <td>(3,)</td>\n",
       "      <td>(37,)</td>\n",
       "      <td>(228,)</td>\n",
       "      <td>(80,)</td>\n",
       "      <td>(23,)</td>\n",
       "    </tr>\n",
       "    <tr>\n",
       "      <td>1</td>\n",
       "      <td>1</td>\n",
       "      <td>1</td>\n",
       "      <td>rt mention the crypto financ ecosystem by ment...</td>\n",
       "      <td>rt mention : the crypto finance ecosystem by m...</td>\n",
       "      <td>1</td>\n",
       "      <td>[99.0, 10064.0, 70.0, -1840.11, 1951.0, 761.0,...</td>\n",
       "      <td>(99.0,)</td>\n",
       "      <td>(10064.0,)</td>\n",
       "      <td>(70.0,)</td>\n",
       "      <td>(-1840.11,)</td>\n",
       "      <td>(1951.0,)</td>\n",
       "      <td>(761.0,)</td>\n",
       "      <td>[-0.031194258365737224, 0.6758994229590757, 0....</td>\n",
       "      <td>(68,)</td>\n",
       "      <td>(90,)</td>\n",
       "      <td>(568,)</td>\n",
       "      <td>(128,)</td>\n",
       "      <td>(56,)</td>\n",
       "    </tr>\n",
       "    <tr>\n",
       "      <td>2</td>\n",
       "      <td>5</td>\n",
       "      <td>1</td>\n",
       "      <td>mention mention mention mention x i fuck love ...</td>\n",
       "      <td>mention mention !!!!!  mention mention x  i fu...</td>\n",
       "      <td>0</td>\n",
       "      <td>[73.0, 5504.0, 45.0, -1007.13, 1114.0, 389.0, ...</td>\n",
       "      <td>(73.0,)</td>\n",
       "      <td>(5504.0,)</td>\n",
       "      <td>(45.0,)</td>\n",
       "      <td>(-1007.13,)</td>\n",
       "      <td>(1114.0,)</td>\n",
       "      <td>(389.0,)</td>\n",
       "      <td>[-0.6060999813645583, -1.4453491951131237, -0....</td>\n",
       "      <td>(1,)</td>\n",
       "      <td>(29,)</td>\n",
       "      <td>(234,)</td>\n",
       "      <td>(116,)</td>\n",
       "      <td>(18,)</td>\n",
       "    </tr>\n",
       "    <tr>\n",
       "      <td>3</td>\n",
       "      <td>6</td>\n",
       "      <td>0</td>\n",
       "      <td>mention ahaha last time act reckless ðð ...</td>\n",
       "      <td>mention ahaha last time acting reckless ðð...</td>\n",
       "      <td>0</td>\n",
       "      <td>[78.0, 5015.0, 16.0, -787.22, 880.0, 311.0, 0....</td>\n",
       "      <td>(78.0,)</td>\n",
       "      <td>(5015.0,)</td>\n",
       "      <td>(16.0,)</td>\n",
       "      <td>(-787.22,)</td>\n",
       "      <td>(880.0,)</td>\n",
       "      <td>(311.0,)</td>\n",
       "      <td>[-0.49554118848016965, -1.67282519823534, -1.0...</td>\n",
       "      <td>(0,)</td>\n",
       "      <td>(12,)</td>\n",
       "      <td>(191,)</td>\n",
       "      <td>(70,)</td>\n",
       "      <td>(32,)</td>\n",
       "    </tr>\n",
       "    <tr>\n",
       "      <td>4</td>\n",
       "      <td>8</td>\n",
       "      <td>1</td>\n",
       "      <td>i m so excit for the boojum i m about to get i...</td>\n",
       "      <td>i ' m so excited for the boojum i ' m about to...</td>\n",
       "      <td>0</td>\n",
       "      <td>[191.0, 7331.0, 27.0, -1512.6, 1601.0, 415.0, ...</td>\n",
       "      <td>(191.0,)</td>\n",
       "      <td>(7331.0,)</td>\n",
       "      <td>(27.0,)</td>\n",
       "      <td>(-1512.6,)</td>\n",
       "      <td>(1601.0,)</td>\n",
       "      <td>(415.0,)</td>\n",
       "      <td>[2.003087530707014, -0.5954541895828807, -0.76...</td>\n",
       "      <td>(1,)</td>\n",
       "      <td>(32,)</td>\n",
       "      <td>(239,)</td>\n",
       "      <td>(54,)</td>\n",
       "      <td>(24,)</td>\n",
       "    </tr>\n",
       "  </tbody>\n",
       "</table>\n",
       "</div>"
      ],
      "text/plain": [
       "   doc_id  label                                            content  \\\n",
       "0       0      1  alex is too nice for love island rt mention te...   \n",
       "1       1      1  rt mention the crypto financ ecosystem by ment...   \n",
       "2       5      1  mention mention mention mention x i fuck love ...   \n",
       "3       6      0  mention ahaha last time act reckless ðð ...   \n",
       "4       8      1  i m so excit for the boojum i m about to get i...   \n",
       "\n",
       "                                    original_content  train_entry  \\\n",
       "0  alex is too nice for love island :(  rt mentio...            1   \n",
       "1  rt mention : the crypto finance ecosystem by m...            1   \n",
       "2  mention mention !!!!!  mention mention x  i fu...            0   \n",
       "3  mention ahaha last time acting reckless ðð...            0   \n",
       "4  i ' m so excited for the boojum i ' m about to...            0   \n",
       "\n",
       "                                            features nb_pronouns  \\\n",
       "0  [76.0, 5909.0, 28.0, -1123.86, 1220.0, 398.0, ...     (76.0,)   \n",
       "1  [99.0, 10064.0, 70.0, -1840.11, 1951.0, 761.0,...     (99.0,)   \n",
       "2  [73.0, 5504.0, 45.0, -1007.13, 1114.0, 389.0, ...     (73.0,)   \n",
       "3  [78.0, 5015.0, 16.0, -787.22, 880.0, 311.0, 0....     (78.0,)   \n",
       "4  [191.0, 7331.0, 27.0, -1512.6, 1601.0, 415.0, ...    (191.0,)   \n",
       "\n",
       "  nb_characters nb_digits flesch_readibility   nb_words  nb_nouns  \\\n",
       "0     (5909.0,)   (28.0,)        (-1123.86,)  (1220.0,)  (398.0,)   \n",
       "1    (10064.0,)   (70.0,)        (-1840.11,)  (1951.0,)  (761.0,)   \n",
       "2     (5504.0,)   (45.0,)        (-1007.13,)  (1114.0,)  (389.0,)   \n",
       "3     (5015.0,)   (16.0,)         (-787.22,)   (880.0,)  (311.0,)   \n",
       "4     (7331.0,)   (27.0,)         (-1512.6,)  (1601.0,)  (415.0,)   \n",
       "\n",
       "                                     scaled_features nb_hashtags nb_rts  \\\n",
       "0  [-0.5397647056339251, -1.2569488244290796, -0....        (3,)  (37,)   \n",
       "1  [-0.031194258365737224, 0.6758994229590757, 0....       (68,)  (90,)   \n",
       "2  [-0.6060999813645583, -1.4453491951131237, -0....        (1,)  (29,)   \n",
       "3  [-0.49554118848016965, -1.67282519823534, -1.0...        (0,)  (12,)   \n",
       "4  [2.003087530707014, -0.5954541895828807, -0.76...        (1,)  (32,)   \n",
       "\n",
       "  nb_big_words nb_mentions nb_urls  \n",
       "0       (228,)       (80,)   (23,)  \n",
       "1       (568,)      (128,)   (56,)  \n",
       "2       (234,)      (116,)   (18,)  \n",
       "3       (191,)       (70,)   (32,)  \n",
       "4       (239,)       (54,)   (24,)  "
      ]
     },
     "execution_count": 82,
     "metadata": {},
     "output_type": "execute_result"
    }
   ],
   "source": [
    "# display dataset info\n",
    "display_dataset_stats(data)\n",
    "print('Shape of the dataframe :', data.shape)\n",
    "print('Size of the features\\' vectors :', len(string_to_nparray_1d(data.iloc[0,:]['features'])) if isinstance(data.iloc[0,:]['features'], str) else len(data.iloc[0,:]['features']))\n",
    "data.head()"
   ]
  },
  {
   "cell_type": "code",
   "execution_count": 83,
   "metadata": {
    "ExecuteTime": {
     "end_time": "2019-11-09T17:12:24.382553Z",
     "start_time": "2019-11-09T17:12:01.847039Z"
    },
    "code_folding": [],
    "scrolled": false
   },
   "outputs": [
    {
     "data": {
      "image/png": "[encoded data removed]",
      "text/plain": [
       "<Figure size 720x720 with 1 Axes>"
      ]
     },
     "metadata": {
      "needs_background": "light"
     },
     "output_type": "display_data"
    }
   ],
   "source": [
    "# t-SNE\n",
    "plot_data(X_train, y_train, X_test, y_test)"
   ]
  },
  {
   "cell_type": "code",
   "execution_count": null,
   "metadata": {
    "ExecuteTime": {
     "start_time": "2019-11-09T17:11:56.155Z"
    },
    "code_folding": [
     0
    ]
   },
   "outputs": [
    {
     "name": "stdout",
     "output_type": "stream",
     "text": [
      "Men's tweets :\n"
     ]
    }
   ],
   "source": [
    "# wordcloud\n",
    "print('Men\\'s tweets :')\n",
    "men_cmap = mpl.colors.ListedColormap(mpl.cm.Blues(np.linspace(0, 1, 20))[5:,:-1])\n",
    "plot_wordcloud(' '.join(list(data.loc[data['label'] == 0]['original_content'])), men_cmap, collocations=True)\n",
    "print('Women\\'s tweets :')\n",
    "women_cmap = mpl.colors.ListedColormap(mpl.cm.RdPu(np.linspace(0, 1, 20))[5:,:-1])\n",
    "plot_wordcloud(' '.join(list(data.loc[data['label'] == 1]['original_content'])), women_cmap, collocations=True)"
   ]
  },
  {
   "cell_type": "code",
   "execution_count": 100,
   "metadata": {
    "ExecuteTime": {
     "end_time": "2019-10-31T17:16:34.482802Z",
     "start_time": "2019-10-31T17:16:34.464850Z"
    },
    "code_folding": [
     0
    ],
    "collapsed": true
   },
   "outputs": [
    {
     "ename": "NameError",
     "evalue": "name 'X' is not defined",
     "output_type": "error",
     "traceback": [
      "\u001b[1;31m---------------------------------------------------------------------------\u001b[0m",
      "\u001b[1;31mNameError\u001b[0m                                 Traceback (most recent call last)",
      "\u001b[1;32m<ipython-input-100-144a1083719a>\u001b[0m in \u001b[0;36m<module>\u001b[1;34m\u001b[0m\n\u001b[0;32m      1\u001b[0m \u001b[1;31m# gridsearch\u001b[0m\u001b[1;33m\u001b[0m\u001b[1;33m\u001b[0m\u001b[1;33m\u001b[0m\u001b[0m\n\u001b[0;32m      2\u001b[0m \u001b[0mclf\u001b[0m \u001b[1;33m=\u001b[0m \u001b[0mGridSearchCV\u001b[0m\u001b[1;33m(\u001b[0m\u001b[0mCLASSIFIER\u001b[0m\u001b[1;33m(\u001b[0m\u001b[1;33m)\u001b[0m\u001b[1;33m,\u001b[0m \u001b[0mGRIDSEARCH_PARAMS_RANGE\u001b[0m\u001b[1;33m[\u001b[0m\u001b[0mCLASSIFIER\u001b[0m\u001b[1;33m]\u001b[0m\u001b[1;33m,\u001b[0m \u001b[0mcv\u001b[0m\u001b[1;33m=\u001b[0m\u001b[0mGRIDSEARCH_NB_CV_SPLITS\u001b[0m\u001b[1;33m)\u001b[0m\u001b[1;33m\u001b[0m\u001b[1;33m\u001b[0m\u001b[0m\n\u001b[1;32m----> 3\u001b[1;33m \u001b[0mclf\u001b[0m\u001b[1;33m.\u001b[0m\u001b[0mfit\u001b[0m\u001b[1;33m(\u001b[0m\u001b[0mX\u001b[0m\u001b[1;33m,\u001b[0m \u001b[0my\u001b[0m\u001b[1;33m)\u001b[0m\u001b[1;33m\u001b[0m\u001b[1;33m\u001b[0m\u001b[0m\n\u001b[0m\u001b[0;32m      4\u001b[0m \u001b[0mprint\u001b[0m\u001b[1;33m(\u001b[0m\u001b[1;34mf'Best classification score: {clf.best_score_}'\u001b[0m\u001b[1;33m)\u001b[0m\u001b[1;33m\u001b[0m\u001b[1;33m\u001b[0m\u001b[0m\n\u001b[0;32m      5\u001b[0m \u001b[0mprint\u001b[0m\u001b[1;33m(\u001b[0m\u001b[1;34mf'Best parameters: {clf.best_params_}'\u001b[0m\u001b[1;33m)\u001b[0m\u001b[1;33m\u001b[0m\u001b[1;33m\u001b[0m\u001b[0m\n",
      "\u001b[1;31mNameError\u001b[0m: name 'X' is not defined"
     ]
    }
   ],
   "source": [
    "# gridsearch\n",
    "clf = GridSearchCV(CLASSIFIER(), GRIDSEARCH_PARAMS_RANGE[CLASSIFIER], cv=GRIDSEARCH_NB_CV_SPLITS)\n",
    "clf.fit(X_train, y_train)\n",
    "print(f'Best classification score: {clf.best_score_}')\n",
    "print(f'Best parameters: {clf.best_params_}')"
   ]
  },
  {
   "cell_type": "code",
   "execution_count": null,
   "metadata": {
    "ExecuteTime": {
     "start_time": "2019-11-09T17:11:57.753Z"
    },
    "code_folding": [],
    "scrolled": true
   },
   "outputs": [],
   "source": [
    "# training\n",
    "start_time = time.time()\n",
    "model, scores = train_model(CLASSIFIER, X_train, y_train, X_test, y_test, PARAMS[CLASSIFIER])\n",
    "print(f'Time to train the classifier: {round((time.time()-start_time)/60, 1)} m')"
   ]
  },
  {
   "cell_type": "code",
   "execution_count": null,
   "metadata": {
    "ExecuteTime": {
     "start_time": "2019-11-09T17:11:58.521Z"
    },
    "code_folding": [
     0,
     1,
     3,
     5
    ],
    "scrolled": true
   },
   "outputs": [],
   "source": [
    "# metrics\n",
    "try:\n",
    "    models_and_scores\n",
    "except:\n",
    "    models_and_scores = None\n",
    "if True: #not isinstance(models_and_scores, pd.DataFrame)\n",
    "    models_and_scores = pd.DataFrame([np.array([model, scores])], columns=['Model', 'Scores'])\n",
    "    models_and_scores['Accuracy'] = models_and_scores['Scores'].apply(lambda scores: scores[0])\n",
    "    models_and_scores['Precision'] = models_and_scores['Scores'].apply(lambda scores: scores[1])\n",
    "    models_and_scores['Recall'] = models_and_scores['Scores'].apply(lambda scores: scores[2])\n",
    "    models_and_scores = models_and_scores.drop('Scores', axis='columns')\n",
    "\n",
    "print('Mean accuracy: {:.3f}'.format(models_and_scores[\"Accuracy\"].mean()))\n",
    "models_and_scores.head()"
   ]
  },
  {
   "cell_type": "code",
   "execution_count": null,
   "metadata": {},
   "outputs": [],
   "source": []
  }
 ],
 "metadata": {
  "kernelspec": {
   "display_name": "Python 3",
   "language": "python",
   "name": "python3"
  },
  "toc": {
   "base_numbering": 1,
   "nav_menu": {},
   "number_sections": true,
   "sideBar": true,
   "skip_h1_title": false,
   "title_cell": "Table of Contents",
   "title_sidebar": "Contents",
   "toc_cell": false,
   "toc_position": {},
   "toc_section_display": true,
   "toc_window_display": false
  }
 },
 "nbformat": 4,
 "nbformat_minor": 2
}
